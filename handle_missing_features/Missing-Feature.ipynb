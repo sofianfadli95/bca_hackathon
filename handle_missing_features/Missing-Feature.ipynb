{
 "cells": [
  {
   "cell_type": "markdown",
   "metadata": {},
   "source": [
    "# Machine Learning - test set with fewer features than the train set"
   ]
  },
  {
   "cell_type": "markdown",
   "metadata": {},
   "source": [
    "Guys. I was developing an ML model and I got a doubt. Let's assume that my train data has the following data:\n",
    "\n",
    "<b>ID | Animal | Age | Habitat\n",
    "0 | Fish | 2 | Sea\n",
    "1 | Hawk | 1 | Mountain\n",
    "2 | Fish | 3 | Sea\n",
    "3 | Snake | 4 | Forest</b>\n",
    "\n",
    "If I apply One-hot Encoding, it will generate the following matrix:\n",
    "\n",
    "<b>ID | Animal_Fish | Animal_Hawk | Animal_Snake | Age | ...\n",
    "0 | 1 | 0 | 0 | 2 | ...\n",
    "1 | 0 | 1 | 0 | 1 | ...\n",
    "2 | 1 | 0 | 0 | 3 | ...\n",
    "3 | 0 | 0 | 1 | 4 | ...</b>\n",
    "\n",
    "That's beautiful and work in most of the cases. But, what if my test set contains fewer (or more) features than the train set? What if my test set doesn't contain \"Fish\"? It will generate one less category.\n",
    "\n",
    "Can you guys help me how can I manage this kind of problem?\n",
    "\n",
    "Thank you"
   ]
  },
  {
   "cell_type": "markdown",
   "metadata": {},
   "source": [
    "It sounds like you have your train and test sets completely separate. Here's a minimal example of how you might automatically add \"missing\" features to a given dataset:"
   ]
  },
  {
   "cell_type": "code",
   "execution_count": 2,
   "metadata": {},
   "outputs": [],
   "source": [
    "import pandas as pd\n",
    "\n",
    "# Made-up training dataset\n",
    "train = pd.DataFrame({'animal': ['cat', 'cat', 'dog', 'dog', 'fish', 'fish', 'bear'],\n",
    "                      'age': [12, 13, 31, 12, 12, 32, 90]})\n",
    "\n",
    "# Made-up test dataset (notice how two classes are from train are missing entirely)\n",
    "test = pd.DataFrame({'animal': ['fish', 'fish', 'dog'],\n",
    "                      'age': [15, 62, 1]})"
   ]
  },
  {
   "cell_type": "markdown",
   "metadata": {},
   "source": [
    "test goes from this :"
   ]
  },
  {
   "cell_type": "code",
   "execution_count": 3,
   "metadata": {},
   "outputs": [
    {
     "data": {
      "text/html": [
       "<div>\n",
       "<style scoped>\n",
       "    .dataframe tbody tr th:only-of-type {\n",
       "        vertical-align: middle;\n",
       "    }\n",
       "\n",
       "    .dataframe tbody tr th {\n",
       "        vertical-align: top;\n",
       "    }\n",
       "\n",
       "    .dataframe thead th {\n",
       "        text-align: right;\n",
       "    }\n",
       "</style>\n",
       "<table border=\"1\" class=\"dataframe\">\n",
       "  <thead>\n",
       "    <tr style=\"text-align: right;\">\n",
       "      <th></th>\n",
       "      <th>age</th>\n",
       "      <th>animal</th>\n",
       "    </tr>\n",
       "  </thead>\n",
       "  <tbody>\n",
       "    <tr>\n",
       "      <th>0</th>\n",
       "      <td>15</td>\n",
       "      <td>fish</td>\n",
       "    </tr>\n",
       "    <tr>\n",
       "      <th>1</th>\n",
       "      <td>62</td>\n",
       "      <td>fish</td>\n",
       "    </tr>\n",
       "    <tr>\n",
       "      <th>2</th>\n",
       "      <td>1</td>\n",
       "      <td>dog</td>\n",
       "    </tr>\n",
       "  </tbody>\n",
       "</table>\n",
       "</div>"
      ],
      "text/plain": [
       "   age animal\n",
       "0   15   fish\n",
       "1   62   fish\n",
       "2    1    dog"
      ]
     },
     "execution_count": 3,
     "metadata": {},
     "output_type": "execute_result"
    }
   ],
   "source": [
    "test"
   ]
  },
  {
   "cell_type": "code",
   "execution_count": 4,
   "metadata": {},
   "outputs": [],
   "source": [
    "# Discrete column to be one-hot-encoded\n",
    "col = 'animal'\n",
    "\n",
    "# Create dummy variables for each level of `col`\n",
    "train_animal_dummies = pd.get_dummies(train[col], prefix=col)\n",
    "train = train.join(train_animal_dummies)\n",
    "\n",
    "test_animal_dummies = pd.get_dummies(test[col], prefix=col)\n",
    "test = test.join(test_animal_dummies)\n",
    "\n",
    "# Find the difference in columns between the two datasets\n",
    "# This will work in trivial case, but if you want to limit to just one feature\n",
    "# use this: f = lambda c: col in c; feature_difference = set(filter(f, train)) - set(filter(f, test))\n",
    "feature_difference = set(train) - set(test)\n",
    "\n",
    "# create zero-filled matrix where the rows are equal to the number\n",
    "# of row in `test` and columns equal the number of categories missing (i.e. set difference \n",
    "# between relevant `train` and `test` columns\n",
    "feature_difference_df = pd.DataFrame(data=np.zeros((test.shape[0], len(feature_difference))),\n",
    "                                     columns=list(feature_difference))\n",
    "\n",
    "# add \"missing\" features back to `test\n",
    "test = test.join(feature_difference_df)"
   ]
  },
  {
   "cell_type": "markdown",
   "metadata": {},
   "source": [
    "To this :"
   ]
  },
  {
   "cell_type": "code",
   "execution_count": 5,
   "metadata": {},
   "outputs": [
    {
     "data": {
      "text/html": [
       "<div>\n",
       "<style scoped>\n",
       "    .dataframe tbody tr th:only-of-type {\n",
       "        vertical-align: middle;\n",
       "    }\n",
       "\n",
       "    .dataframe tbody tr th {\n",
       "        vertical-align: top;\n",
       "    }\n",
       "\n",
       "    .dataframe thead th {\n",
       "        text-align: right;\n",
       "    }\n",
       "</style>\n",
       "<table border=\"1\" class=\"dataframe\">\n",
       "  <thead>\n",
       "    <tr style=\"text-align: right;\">\n",
       "      <th></th>\n",
       "      <th>age</th>\n",
       "      <th>animal</th>\n",
       "      <th>animal_dog</th>\n",
       "      <th>animal_fish</th>\n",
       "      <th>animal_bear</th>\n",
       "      <th>animal_cat</th>\n",
       "    </tr>\n",
       "  </thead>\n",
       "  <tbody>\n",
       "    <tr>\n",
       "      <th>0</th>\n",
       "      <td>15</td>\n",
       "      <td>fish</td>\n",
       "      <td>0</td>\n",
       "      <td>1</td>\n",
       "      <td>0.0</td>\n",
       "      <td>0.0</td>\n",
       "    </tr>\n",
       "    <tr>\n",
       "      <th>1</th>\n",
       "      <td>62</td>\n",
       "      <td>fish</td>\n",
       "      <td>0</td>\n",
       "      <td>1</td>\n",
       "      <td>0.0</td>\n",
       "      <td>0.0</td>\n",
       "    </tr>\n",
       "    <tr>\n",
       "      <th>2</th>\n",
       "      <td>1</td>\n",
       "      <td>dog</td>\n",
       "      <td>1</td>\n",
       "      <td>0</td>\n",
       "      <td>0.0</td>\n",
       "      <td>0.0</td>\n",
       "    </tr>\n",
       "  </tbody>\n",
       "</table>\n",
       "</div>"
      ],
      "text/plain": [
       "   age animal  animal_dog  animal_fish  animal_bear  animal_cat\n",
       "0   15   fish           0            1          0.0         0.0\n",
       "1   62   fish           0            1          0.0         0.0\n",
       "2    1    dog           1            0          0.0         0.0"
      ]
     },
     "execution_count": 5,
     "metadata": {},
     "output_type": "execute_result"
    }
   ],
   "source": [
    "test"
   ]
  },
  {
   "cell_type": "markdown",
   "metadata": {},
   "source": [
    "Assuming each row (each animal) can only be one animal, it's fine for us to add an animal_bear feature (a sort-of \"is-a-bear\" test/feature) because of the assumption that if there were any bears in test, that information would have been accounted for in the animal column.\n",
    "\n",
    "As a rule of thumb, it's a good idea to try to account for all possible features (i.e. all possible values of animal, for example) when building/training a model. As mentioned in the comments, some methods are better at handling missing data than others, but if you can do it all from the outset, that's probably a good idea. Now, that would be tough to do if you're accepting free-text input (as the number of possible inputs is never-ending)."
   ]
  }
 ],
 "metadata": {
  "kernelspec": {
   "display_name": "Python 3",
   "language": "python",
   "name": "python3"
  },
  "language_info": {
   "codemirror_mode": {
    "name": "ipython",
    "version": 3
   },
   "file_extension": ".py",
   "mimetype": "text/x-python",
   "name": "python",
   "nbconvert_exporter": "python",
   "pygments_lexer": "ipython3",
   "version": "3.6.4"
  },
  "varInspector": {
   "cols": {
    "lenName": 16,
    "lenType": 16,
    "lenVar": 40
   },
   "kernels_config": {
    "python": {
     "delete_cmd_postfix": "",
     "delete_cmd_prefix": "del ",
     "library": "var_list.py",
     "varRefreshCmd": "print(var_dic_list())"
    },
    "r": {
     "delete_cmd_postfix": ") ",
     "delete_cmd_prefix": "rm(",
     "library": "var_list.r",
     "varRefreshCmd": "cat(var_dic_list()) "
    }
   },
   "types_to_exclude": [
    "module",
    "function",
    "builtin_function_or_method",
    "instance",
    "_Feature"
   ],
   "window_display": false
  }
 },
 "nbformat": 4,
 "nbformat_minor": 2
}
