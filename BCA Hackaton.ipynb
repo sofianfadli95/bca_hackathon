{
 "cells": [
  {
   "cell_type": "code",
   "execution_count": 1,
   "metadata": {},
   "outputs": [],
   "source": [
    "# import the necessary packages\n",
    "import numpy as np\n",
    "import pandas as pd\n",
    "import matplotlib.pyplot as plt\n",
    "import seaborn as sns\n",
    "import random\n",
    "from IPython.display import display"
   ]
  },
  {
   "cell_type": "code",
   "execution_count": 2,
   "metadata": {},
   "outputs": [],
   "source": [
    "# Load the dataset from csv file using pandas\n",
    "data = pd.read_csv('D:\\\\Lomba Hackaton BCA\\\\fraud_detection\\\\data_input_csv\\\\data_input\\\\fraud_train.csv',index_col=False)\n",
    "# filling missing data\n",
    "data.isnull().sum()\n",
    "data.fillna(0, inplace = True)"
   ]
  },
  {
   "cell_type": "code",
   "execution_count": null,
   "metadata": {},
   "outputs": [],
   "source": [
    "data.head()"
   ]
  },
  {
   "cell_type": "code",
   "execution_count": null,
   "metadata": {},
   "outputs": [],
   "source": [
    "data.dtypes"
   ]
  },
  {
   "cell_type": "code",
   "execution_count": 3,
   "metadata": {},
   "outputs": [],
   "source": [
    "# Ubah beberapa columns integer menjadi string object\n",
    "data['tipe_kartu'] = data.tipe_kartu.astype(str)\n",
    "data['tipe_transaksi'] = data.tipe_transaksi.astype(str)\n",
    "data['kepemilikan_kartu'] = data.kepemilikan_kartu.astype(str)"
   ]
  },
  {
   "cell_type": "code",
   "execution_count": null,
   "metadata": {},
   "outputs": [],
   "source": [
    "data.dtypes"
   ]
  },
  {
   "cell_type": "code",
   "execution_count": null,
   "metadata": {},
   "outputs": [],
   "source": [
    "data.columns"
   ]
  },
  {
   "cell_type": "code",
   "execution_count": null,
   "metadata": {},
   "outputs": [],
   "source": [
    "%matplotlib inline"
   ]
  },
  {
   "cell_type": "markdown",
   "metadata": {},
   "source": [
    "Sekarang, mari kita pisahkan terlebih dahulu transaksi yg fraud dengan yg non fraud"
   ]
  },
  {
   "cell_type": "code",
   "execution_count": 4,
   "metadata": {},
   "outputs": [],
   "source": [
    "fraud_transaction = data.loc[data['flag_transaksi_fraud'] == 1, : ]\n",
    "non_fraud = data.loc[data['flag_transaksi_fraud'] == 0, : ]"
   ]
  },
  {
   "cell_type": "code",
   "execution_count": 5,
   "metadata": {},
   "outputs": [],
   "source": [
    "fraud_transaction.head()\n",
    "file_name = 'fraud_transaction.csv'\n",
    "fraud_transaction.to_csv(file_name, index = False, sep=',', encoding='utf-8')"
   ]
  },
  {
   "cell_type": "code",
   "execution_count": 6,
   "metadata": {},
   "outputs": [],
   "source": [
    "non_fraud.head()\n",
    "file_name = 'non_fraud.csv'\n",
    "non_fraud.to_csv(file_name, index = False, sep=',', encoding='utf-8')"
   ]
  },
  {
   "cell_type": "code",
   "execution_count": null,
   "metadata": {},
   "outputs": [],
   "source": [
    "fraud_transaction.tipe_transaksi.value_counts().plot(kind='bar')\n",
    "plt.title('Jumlah Transaksi Fraud per Tipe Transaksi')\n",
    "plt.xlabel('Tipe Transaksi')\n",
    "plt.ylabel('Counts')\n",
    "plt.show()"
   ]
  },
  {
   "cell_type": "code",
   "execution_count": null,
   "metadata": {},
   "outputs": [],
   "source": [
    "non_fraud.tipe_transaksi.value_counts().plot(kind='bar')\n",
    "plt.title('Jumlah Transaksi Non-Fraud per Tipe Transaksi')\n",
    "plt.xlabel('Tipe Transaksi')\n",
    "plt.ylabel('Counts')\n",
    "plt.show()"
   ]
  },
  {
   "cell_type": "code",
   "execution_count": null,
   "metadata": {},
   "outputs": [],
   "source": [
    "fraud_transaction.tipe_kartu.value_counts().plot(kind='bar')\n",
    "plt.title('Jumlah Transaksi Fraud per Tipe Kartu')\n",
    "plt.xlabel('Tipe Kartu')\n",
    "plt.ylabel('Counts')\n",
    "plt.show()"
   ]
  },
  {
   "cell_type": "code",
   "execution_count": null,
   "metadata": {},
   "outputs": [],
   "source": [
    "non_fraud.tipe_kartu.value_counts().plot(kind='bar')\n",
    "plt.title('Jumlah Transaksi Non-Fraud per Tipe Kartu')\n",
    "plt.xlabel('Tipe Kartu')\n",
    "plt.ylabel('Counts')\n",
    "plt.show()"
   ]
  },
  {
   "cell_type": "code",
   "execution_count": 7,
   "metadata": {},
   "outputs": [],
   "source": [
    "time = data['waktu_transaksi']\n",
    "nilai_transaksi = data['nilai_transaksi']\n",
    "rata_rata_nilai_transaksi = data['rata_rata_nilai_transaksi']"
   ]
  },
  {
   "cell_type": "code",
   "execution_count": 8,
   "metadata": {},
   "outputs": [],
   "source": [
    "time = time.tolist()\n",
    "nilai_transaksi = nilai_transaksi.tolist()\n",
    "rata_rata_nilai_transaksi = rata_rata_nilai_transaksi.tolist()"
   ]
  },
  {
   "cell_type": "code",
   "execution_count": 9,
   "metadata": {},
   "outputs": [],
   "source": [
    "# change_format_time berfungsi utk mengubah format time menjadi 'detik'\n",
    "def change_format_time(time):\n",
    "    hour = int(time / 10000)\n",
    "    minute = int((time - (hour*10000))/100)\n",
    "    second = time - (hour*10000) - (minute*100)\n",
    "    result = (hour*3600) + (minute*60) + second\n",
    "    return result\n",
    "\n",
    "selisih_transaksi = []\n",
    "\n",
    "# Hitung selisih\n",
    "def hitung_selisih(rata_rata, nilai_transaksi):\n",
    "    result = abs(rata_rata - nilai_transaksi)\n",
    "    return result\n",
    "\n",
    "# result akan menampung format data 'time' dalam detik\n",
    "new_time = []\n",
    "\n",
    "for element in time:\n",
    "    result = change_format_time(element)\n",
    "    new_time.append(result)"
   ]
  },
  {
   "cell_type": "code",
   "execution_count": 10,
   "metadata": {},
   "outputs": [],
   "source": [
    "\"\"\"\n",
    "Pembagian waktu berdasarkan tingkat aktifitas :\n",
    "    Jam istirahat : 22.00 - 07.59 --> Kategori 1\n",
    "    Jam kerja : 08.00 - 18.59 --> Kategori 2\n",
    "    Jam santai : 19.00 - 21.59 --> Kategori 3\n",
    "\"\"\"\n",
    "\n",
    "grouped_time = []\n",
    "\n",
    "def categorize_time(time):\n",
    "    if (time >= 79200) and (time <= 86399):\n",
    "        grouped_time.append(1)\n",
    "    elif (time <= 28799):\n",
    "        grouped_time.append(1)\n",
    "    elif (time >= 28800) and (time <= 68399):\n",
    "        grouped_time.append(2)\n",
    "    elif (time >= 68400) and (time <= 79199):\n",
    "        grouped_time.append(3)\n",
    "    else:\n",
    "        pass\n",
    "\n",
    "for element in new_time:\n",
    "    result = categorize_time(element)\n",
    "    grouped_time.append(result)\n",
    "\n",
    "for i in range(0, len(nilai_transaksi)):\n",
    "    result = abs(nilai_transaksi[i] - rata_rata_nilai_transaksi[i])\n",
    "    selisih_transaksi.append(result)\n",
    "\n",
    "data['grouped_time'] = [x for x in grouped_time if x is not None]\n",
    "data['selisih_transaksi'] = [x for x in selisih_transaksi]\n",
    "\n",
    "grouped_time = []\n",
    "selisih_transaksi = []"
   ]
  },
  {
   "cell_type": "code",
   "execution_count": 11,
   "metadata": {},
   "outputs": [],
   "source": [
    "data['grouped_time'] = data.grouped_time.astype(str)"
   ]
  },
  {
   "cell_type": "code",
   "execution_count": null,
   "metadata": {},
   "outputs": [],
   "source": [
    "data.dtypes"
   ]
  },
  {
   "cell_type": "code",
   "execution_count": null,
   "metadata": {},
   "outputs": [],
   "source": [
    "print(data.shape)"
   ]
  },
  {
   "cell_type": "code",
   "execution_count": null,
   "metadata": {},
   "outputs": [],
   "source": [
    "print(data.describe())"
   ]
  },
  {
   "cell_type": "code",
   "execution_count": null,
   "metadata": {},
   "outputs": [],
   "source": [
    "# Plot histogram of each paramater\n",
    "data.hist(figsize = (20, 20))\n",
    "plt.show()"
   ]
  },
  {
   "cell_type": "code",
   "execution_count": null,
   "metadata": {},
   "outputs": [],
   "source": [
    "# Determine number of fraud cases in dataset\n",
    "fraud = data[data['flag_transaksi_fraud'] == 1]\n",
    "valid = data[data['flag_transaksi_fraud'] == 0]\n",
    "\n",
    "outlier_fraction = len(fraud) / float(len(valid))\n",
    "print(outlier_fraction)\n",
    "\n",
    "print('Fraud Cases: {}'.format(len(fraud)))\n",
    "print('Valid Cases: {}'.format(len(valid)))"
   ]
  },
  {
   "cell_type": "code",
   "execution_count": null,
   "metadata": {},
   "outputs": [],
   "source": [
    "# Correlation matrix\n",
    "corr_mat = data.corr()\n",
    "fig = plt.figure(figsize = (12, 9))\n",
    "\n",
    "sns.heatmap(corr_mat, vmax = .8, square = True)\n",
    "plt.show()"
   ]
  },
  {
   "cell_type": "code",
   "execution_count": null,
   "metadata": {},
   "outputs": [],
   "source": [
    "data.columns"
   ]
  },
  {
   "cell_type": "code",
   "execution_count": 12,
   "metadata": {},
   "outputs": [],
   "source": [
    "# Get the columns that we want from the Dataframe\n",
    "columns = ['grouped_time','tipe_kartu','tipe_transaksi','selisih_transaksi','kepemilikan_kartu', 'maksimum_nilai_transaksi', 'flag_transaksi_fraud']\n",
    "target = 'flag_transaksi_fraud'"
   ]
  },
  {
   "cell_type": "code",
   "execution_count": 13,
   "metadata": {},
   "outputs": [],
   "source": [
    "selected_data = data.loc[:,columns]\n",
    "selected_data.head()\n",
    "file_name = 'data_02.csv'\n",
    "selected_data.to_csv(file_name, index = False, sep=',', encoding='utf-8')"
   ]
  },
  {
   "cell_type": "code",
   "execution_count": 14,
   "metadata": {},
   "outputs": [],
   "source": [
    "# over sampling\n",
    "selected_data = selected_data.append([selected_data.loc[selected_data['flag_transaksi_fraud'] == 1]]*12)\n",
    "#data = data.append([data]*5)\n",
    "selected_data = selected_data.sample(frac = 1)"
   ]
  },
  {
   "cell_type": "code",
   "execution_count": 15,
   "metadata": {},
   "outputs": [
    {
     "data": {
      "text/plain": [
       "flag_transaksi_fraud\n",
       "0    12215\n",
       "1    11830\n",
       "dtype: int64"
      ]
     },
     "execution_count": 15,
     "metadata": {},
     "output_type": "execute_result"
    }
   ],
   "source": [
    "# check data\n",
    "# Utk memastikan bahwa jumlah datanya balance\n",
    "selected_data.groupby(selected_data.columns[6]).size()"
   ]
  },
  {
   "cell_type": "code",
   "execution_count": 16,
   "metadata": {},
   "outputs": [],
   "source": [
    "columns = ['grouped_time','tipe_kartu','tipe_transaksi','selisih_transaksi','kepemilikan_kartu', 'maksimum_nilai_transaksi']\n",
    "X = selected_data.loc[:,columns].values\n",
    "Y = selected_data.loc[:, 'flag_transaksi_fraud'].values"
   ]
  },
  {
   "cell_type": "code",
   "execution_count": 17,
   "metadata": {},
   "outputs": [
    {
     "data": {
      "text/plain": [
       "array([['1', '104', '26', 7081.443300000043, '2', 10500000.0],\n",
       "       ['2', '93', '26', 2893191.192, '2', 53377977.0],\n",
       "       ['1', '111', '58', 478166.73490000004, '2', 6500000.0],\n",
       "       ...,\n",
       "       ['2', '104', '26', 986372.1, '2', 1000000.0],\n",
       "       ['2', '93', '440', 59417726.09, '1', 100000000.0],\n",
       "       ['2', '1', '26', 396542.108, '2', 2500000.0]], dtype=object)"
      ]
     },
     "metadata": {},
     "output_type": "display_data"
    },
    {
     "name": "stdout",
     "output_type": "stream",
     "text": [
      "<class 'numpy.ndarray'>\n",
      "(24045, 6)\n"
     ]
    }
   ],
   "source": [
    "display(X)\n",
    "print(type(X))\n",
    "print(X.shape)"
   ]
  },
  {
   "cell_type": "code",
   "execution_count": 18,
   "metadata": {},
   "outputs": [
    {
     "data": {
      "text/plain": [
       "array([1, 1, 0, ..., 1, 1, 0], dtype=int64)"
      ]
     },
     "metadata": {},
     "output_type": "display_data"
    },
    {
     "name": "stdout",
     "output_type": "stream",
     "text": [
      "<class 'numpy.ndarray'>\n",
      "(24045,)\n"
     ]
    }
   ],
   "source": [
    "display(Y)\n",
    "print(type(Y))\n",
    "print(Y.shape)"
   ]
  },
  {
   "cell_type": "code",
   "execution_count": 19,
   "metadata": {},
   "outputs": [],
   "source": [
    "# Encode categorical data\n",
    "from sklearn.preprocessing import LabelEncoder, OneHotEncoder\n",
    "labelencoder_X = LabelEncoder()\n",
    "X[:, 0] = labelencoder_X.fit_transform(X[:, 0])\n",
    "X[:, 1] = labelencoder_X.fit_transform(X[:, 1])\n",
    "X[:, 2] = labelencoder_X.fit_transform(X[:, 2])\n",
    "X[:, 4] = labelencoder_X.fit_transform(X[:, 4])\n",
    "# Mengubah kategorikal data menjadi dummy variable\n",
    "onehotencoder = OneHotEncoder(categorical_features = [0,1,2,4]) \n",
    "X = onehotencoder.fit_transform(X).toarray()\n",
    "\n",
    "from sklearn.model_selection import train_test_split \n",
    "from sklearn.preprocessing import StandardScaler\n",
    "# splitting datasets to Training and Testing\n",
    "X_train, X_test, y_train, y_test = train_test_split(X, Y, test_size = 0.2, random_state = 0)\n",
    "\n",
    "# Feature scaling\n",
    "sc = StandardScaler()\n",
    "X_train = sc.fit_transform(X_train)\n",
    "X_test = sc.transform(X_test)"
   ]
  },
  {
   "cell_type": "markdown",
   "metadata": {},
   "source": [
    "### Testing with Logistic Regression "
   ]
  },
  {
   "cell_type": "code",
   "execution_count": null,
   "metadata": {},
   "outputs": [],
   "source": [
    "# Fitting Logistic Regression to the Training set\n",
    "from sklearn.linear_model import LogisticRegression\n",
    "classifier = LogisticRegression(random_state = 0)\n",
    "classifier.fit(X_train, y_train)\n",
    "\n",
    "# Predicting the Test set results\n",
    "y_pred = classifier.predict(X_test)"
   ]
  },
  {
   "cell_type": "code",
   "execution_count": null,
   "metadata": {},
   "outputs": [],
   "source": [
    "############################ Evaluation ##################################\n",
    "from sklearn.metrics import confusion_matrix, accuracy_score, precision_recall_fscore_support\n",
    "acc = accuracy_score(y_test, y_pred)\n",
    "cm = confusion_matrix(y_test, y_pred)\n",
    "evaluate = precision_recall_fscore_support(y_test, y_pred)"
   ]
  },
  {
   "cell_type": "code",
   "execution_count": null,
   "metadata": {},
   "outputs": [],
   "source": [
    "acc"
   ]
  },
  {
   "cell_type": "code",
   "execution_count": null,
   "metadata": {},
   "outputs": [],
   "source": [
    "cm"
   ]
  },
  {
   "cell_type": "code",
   "execution_count": null,
   "metadata": {},
   "outputs": [],
   "source": [
    "evaluate"
   ]
  },
  {
   "cell_type": "markdown",
   "metadata": {},
   "source": [
    "### Testing with K-NN"
   ]
  },
  {
   "cell_type": "code",
   "execution_count": 32,
   "metadata": {},
   "outputs": [],
   "source": [
    "# Fitting classifier to the Training set\n",
    "from sklearn.neighbors import KNeighborsClassifier\n",
    "classifier = KNeighborsClassifier(n_neighbors = 5, metric = 'minkowski', p = 2)\n",
    "classifier.fit(X_train, y_train)\n",
    "\n",
    "# Predicting the Test set results\n",
    "y_pred = classifier.predict(X_test)"
   ]
  },
  {
   "cell_type": "code",
   "execution_count": 35,
   "metadata": {},
   "outputs": [],
   "source": [
    "############################ Evaluation ##################################\n",
    "from sklearn.metrics import confusion_matrix, accuracy_score, precision_recall_fscore_support\n",
    "acc = accuracy_score(y_test, y_pred)\n",
    "cm = confusion_matrix(y_test, y_pred)\n",
    "evaluate = precision_recall_fscore_support(y_test, y_pred)"
   ]
  },
  {
   "cell_type": "code",
   "execution_count": 36,
   "metadata": {},
   "outputs": [
    {
     "data": {
      "text/plain": [
       "0.9191100020794344"
      ]
     },
     "execution_count": 36,
     "metadata": {},
     "output_type": "execute_result"
    }
   ],
   "source": [
    "acc"
   ]
  },
  {
   "cell_type": "code",
   "execution_count": 37,
   "metadata": {},
   "outputs": [
    {
     "data": {
      "text/plain": [
       "array([[2035,  389],\n",
       "       [   0, 2385]], dtype=int64)"
      ]
     },
     "execution_count": 37,
     "metadata": {},
     "output_type": "execute_result"
    }
   ],
   "source": [
    "cm"
   ]
  },
  {
   "cell_type": "code",
   "execution_count": 38,
   "metadata": {},
   "outputs": [
    {
     "data": {
      "text/plain": [
       "(array([1.        , 0.85976929]),\n",
       " array([0.83952145, 1.        ]),\n",
       " array([0.91276071, 0.92459779]),\n",
       " array([2424, 2385], dtype=int64))"
      ]
     },
     "execution_count": 38,
     "metadata": {},
     "output_type": "execute_result"
    }
   ],
   "source": [
    "evaluate"
   ]
  },
  {
   "cell_type": "code",
   "execution_count": 26,
   "metadata": {},
   "outputs": [
    {
     "data": {
      "text/plain": [
       "(19236, 41)"
      ]
     },
     "execution_count": 26,
     "metadata": {},
     "output_type": "execute_result"
    }
   ],
   "source": [
    "X_train.shape"
   ]
  },
  {
   "cell_type": "code",
   "execution_count": 27,
   "metadata": {},
   "outputs": [
    {
     "name": "stderr",
     "output_type": "stream",
     "text": [
      "C:\\Users\\sofyan.fadli\\Anaconda3\\lib\\site-packages\\h5py\\__init__.py:36: FutureWarning: Conversion of the second argument of issubdtype from `float` to `np.floating` is deprecated. In future, it will be treated as `np.float64 == np.dtype(float).type`.\n",
      "  from ._conv import register_converters as _register_converters\n",
      "Using TensorFlow backend.\n",
      "C:\\Users\\sofyan.fadli\\Anaconda3\\lib\\site-packages\\requests\\__init__.py:80: RequestsDependencyWarning: urllib3 (1.23) or chardet (3.0.4) doesn't match a supported version!\n",
      "  RequestsDependencyWarning)\n",
      "D:\\Lomba Hackaton BCA\\deeplab.py:28: UserWarning: Update your `Dense` call to the Keras 2 API: `Dense(activation=\"relu\", input_dim=41, units=48, kernel_initializer=\"uniform\")`\n",
      "  classifier.add(Dense(output_dim = self._hidden_node, init = 'uniform', activation= 'relu', input_dim = self._input_node))\n",
      "D:\\Lomba Hackaton BCA\\deeplab.py:29: UserWarning: Update your `Dropout` call to the Keras 2 API: `Dropout(rate=0)`\n",
      "  classifier.add(Dropout(p = self._dropout))\n",
      "D:\\Lomba Hackaton BCA\\deeplab.py:32: UserWarning: Update your `Dense` call to the Keras 2 API: `Dense(activation=\"relu\", units=48, kernel_initializer=\"uniform\")`\n",
      "  classifier.add(Dense(output_dim = self._hidden_node, init = 'uniform', activation= 'relu'))\n",
      "D:\\Lomba Hackaton BCA\\deeplab.py:33: UserWarning: Update your `Dropout` call to the Keras 2 API: `Dropout(rate=0)`\n",
      "  classifier.add(Dropout(p = self._dropout))\n",
      "D:\\Lomba Hackaton BCA\\deeplab.py:34: UserWarning: Update your `Dense` call to the Keras 2 API: `Dense(activation=\"sigmoid\", units=1, kernel_initializer=\"uniform\")`\n",
      "  classifier.add(Dense(output_dim = self._output_node, init = 'uniform', activation= 'sigmoid'))\n",
      "C:\\Users\\sofyan.fadli\\Anaconda3\\lib\\site-packages\\keras\\models.py:981: UserWarning: The `nb_epoch` argument in `fit` has been renamed `epochs`.\n",
      "  warnings.warn('The `nb_epoch` argument in `fit` '\n"
     ]
    },
    {
     "name": "stdout",
     "output_type": "stream",
     "text": [
      "Epoch 1/100\n",
      "19236/19236 [==============================] - 2s 98us/step - loss: 0.5777 - acc: 0.6948\n",
      "Epoch 2/100\n",
      "19236/19236 [==============================] - 1s 33us/step - loss: 0.5438 - acc: 0.7295\n",
      "Epoch 3/100\n",
      "19236/19236 [==============================] - 1s 35us/step - loss: 0.5328 - acc: 0.7338\n",
      "Epoch 4/100\n",
      "19236/19236 [==============================] - 1s 32us/step - loss: 0.5232 - acc: 0.7384\n",
      "Epoch 5/100\n",
      "19236/19236 [==============================] - 1s 32us/step - loss: 0.5167 - acc: 0.7439\n",
      "Epoch 6/100\n",
      "19236/19236 [==============================] - 1s 32us/step - loss: 0.5071 - acc: 0.7476\n",
      "Epoch 7/100\n",
      "19236/19236 [==============================] - 1s 33us/step - loss: 0.5006 - acc: 0.7506\n",
      "Epoch 8/100\n",
      "19236/19236 [==============================] - 1s 32us/step - loss: 0.4934 - acc: 0.7543\n",
      "Epoch 9/100\n",
      "19236/19236 [==============================] - 1s 32us/step - loss: 0.4874 - acc: 0.7566\n",
      "Epoch 10/100\n",
      "19236/19236 [==============================] - 1s 33us/step - loss: 0.4794 - acc: 0.7636\n",
      "Epoch 11/100\n",
      "19236/19236 [==============================] - 1s 32us/step - loss: 0.4748 - acc: 0.7634\n",
      "Epoch 12/100\n",
      "19236/19236 [==============================] - 1s 33us/step - loss: 0.4683 - acc: 0.7647\n",
      "Epoch 13/100\n",
      "19236/19236 [==============================] - 1s 37us/step - loss: 0.4631 - acc: 0.7665\n",
      "Epoch 14/100\n",
      "19236/19236 [==============================] - 1s 40us/step - loss: 0.4595 - acc: 0.7685\n",
      "Epoch 15/100\n",
      "19236/19236 [==============================] - 1s 38us/step - loss: 0.4543 - acc: 0.7721\n",
      "Epoch 16/100\n",
      "19236/19236 [==============================] - 1s 38us/step - loss: 0.4514 - acc: 0.7729\n",
      "Epoch 17/100\n",
      "19236/19236 [==============================] - 1s 35us/step - loss: 0.4479 - acc: 0.7724\n",
      "Epoch 18/100\n",
      "19236/19236 [==============================] - 1s 37us/step - loss: 0.4424 - acc: 0.7752\n",
      "Epoch 19/100\n",
      "19236/19236 [==============================] - 1s 39us/step - loss: 0.4404 - acc: 0.7792\n",
      "Epoch 20/100\n",
      "19236/19236 [==============================] - 1s 37us/step - loss: 0.4377 - acc: 0.7798\n",
      "Epoch 21/100\n",
      "19236/19236 [==============================] - 1s 36us/step - loss: 0.4349 - acc: 0.7793\n",
      "Epoch 22/100\n",
      "19236/19236 [==============================] - 1s 35us/step - loss: 0.4325 - acc: 0.7804\n",
      "Epoch 23/100\n",
      "19236/19236 [==============================] - 1s 35us/step - loss: 0.4311 - acc: 0.7837\n",
      "Epoch 24/100\n",
      "19236/19236 [==============================] - 1s 33us/step - loss: 0.4270 - acc: 0.7838\n",
      "Epoch 25/100\n",
      "19236/19236 [==============================] - 1s 33us/step - loss: 0.4254 - acc: 0.7864\n",
      "Epoch 26/100\n",
      "19236/19236 [==============================] - 1s 32us/step - loss: 0.4233 - acc: 0.7845\n",
      "Epoch 27/100\n",
      "19236/19236 [==============================] - 1s 33us/step - loss: 0.4211 - acc: 0.7903\n",
      "Epoch 28/100\n",
      "19236/19236 [==============================] - 1s 33us/step - loss: 0.4203 - acc: 0.7904\n",
      "Epoch 29/100\n",
      "19236/19236 [==============================] - 1s 33us/step - loss: 0.4204 - acc: 0.7927\n",
      "Epoch 30/100\n",
      "19236/19236 [==============================] - 1s 34us/step - loss: 0.4146 - acc: 0.7910\n",
      "Epoch 31/100\n",
      "19236/19236 [==============================] - 1s 33us/step - loss: 0.4105 - acc: 0.7956\n",
      "Epoch 32/100\n",
      "19236/19236 [==============================] - 1s 36us/step - loss: 0.4079 - acc: 0.7983\n",
      "Epoch 33/100\n",
      "19236/19236 [==============================] - 1s 35us/step - loss: 0.4045 - acc: 0.7998\n",
      "Epoch 34/100\n",
      "19236/19236 [==============================] - 1s 35us/step - loss: 0.4058 - acc: 0.7993\n",
      "Epoch 35/100\n",
      "19236/19236 [==============================] - 1s 36us/step - loss: 0.4013 - acc: 0.8026\n",
      "Epoch 36/100\n",
      "19236/19236 [==============================] - 1s 42us/step - loss: 0.3974 - acc: 0.8037\n",
      "Epoch 37/100\n",
      "19236/19236 [==============================] - 1s 34us/step - loss: 0.3981 - acc: 0.8044\n",
      "Epoch 38/100\n",
      "19236/19236 [==============================] - 1s 35us/step - loss: 0.3970 - acc: 0.8054\n",
      "Epoch 39/100\n",
      "19236/19236 [==============================] - 1s 34us/step - loss: 0.3930 - acc: 0.8099\n",
      "Epoch 40/100\n",
      "19236/19236 [==============================] - 1s 33us/step - loss: 0.3916 - acc: 0.8098\n",
      "Epoch 41/100\n",
      "19236/19236 [==============================] - 1s 34us/step - loss: 0.3884 - acc: 0.8098\n",
      "Epoch 42/100\n",
      "19236/19236 [==============================] - 1s 33us/step - loss: 0.3875 - acc: 0.8127\n",
      "Epoch 43/100\n",
      "19236/19236 [==============================] - 1s 33us/step - loss: 0.3956 - acc: 0.8146\n",
      "Epoch 44/100\n",
      "19236/19236 [==============================] - 1s 34us/step - loss: 0.3902 - acc: 0.8166\n",
      "Epoch 45/100\n",
      "19236/19236 [==============================] - 1s 35us/step - loss: 0.3884 - acc: 0.8168\n",
      "Epoch 46/100\n",
      "19236/19236 [==============================] - 1s 35us/step - loss: 0.3873 - acc: 0.8186\n",
      "Epoch 47/100\n",
      "19236/19236 [==============================] - 1s 39us/step - loss: 0.3860 - acc: 0.8171\n",
      "Epoch 48/100\n",
      "19236/19236 [==============================] - 1s 38us/step - loss: 0.3862 - acc: 0.8169\n",
      "Epoch 49/100\n",
      "19236/19236 [==============================] - 1s 38us/step - loss: 0.3840 - acc: 0.8213\n",
      "Epoch 50/100\n",
      "19236/19236 [==============================] - 1s 38us/step - loss: 0.3808 - acc: 0.8234: 0s - loss: 0.3879 - a\n",
      "Epoch 51/100\n",
      "19236/19236 [==============================] - 1s 36us/step - loss: 0.3814 - acc: 0.8196\n",
      "Epoch 52/100\n",
      "19236/19236 [==============================] - 1s 38us/step - loss: 0.3762 - acc: 0.8208\n",
      "Epoch 53/100\n",
      "19236/19236 [==============================] - 1s 36us/step - loss: 0.3746 - acc: 0.8244\n",
      "Epoch 54/100\n",
      "19236/19236 [==============================] - 1s 36us/step - loss: 0.3738 - acc: 0.8223\n",
      "Epoch 55/100\n",
      "19236/19236 [==============================] - 1s 40us/step - loss: 0.3697 - acc: 0.8261\n",
      "Epoch 56/100\n",
      "19236/19236 [==============================] - 1s 38us/step - loss: 0.3739 - acc: 0.8266\n",
      "Epoch 57/100\n",
      "19236/19236 [==============================] - 1s 40us/step - loss: 0.3672 - acc: 0.8279\n",
      "Epoch 58/100\n",
      "19236/19236 [==============================] - 1s 41us/step - loss: 0.3654 - acc: 0.8295\n",
      "Epoch 59/100\n",
      "19236/19236 [==============================] - 1s 42us/step - loss: 0.3674 - acc: 0.8276\n",
      "Epoch 60/100\n",
      "19236/19236 [==============================] - 1s 43us/step - loss: 0.3641 - acc: 0.8289\n",
      "Epoch 61/100\n",
      "19236/19236 [==============================] - 1s 41us/step - loss: 0.3597 - acc: 0.8320\n",
      "Epoch 62/100\n",
      "19236/19236 [==============================] - 1s 38us/step - loss: 0.3608 - acc: 0.8334\n",
      "Epoch 63/100\n",
      "19236/19236 [==============================] - 1s 38us/step - loss: 0.3563 - acc: 0.8352\n",
      "Epoch 64/100\n",
      "19236/19236 [==============================] - 1s 38us/step - loss: 0.3557 - acc: 0.8357\n",
      "Epoch 65/100\n",
      "19236/19236 [==============================] - 1s 39us/step - loss: 0.3538 - acc: 0.8381\n",
      "Epoch 66/100\n",
      "19236/19236 [==============================] - 1s 37us/step - loss: 0.3518 - acc: 0.8389\n",
      "Epoch 67/100\n",
      "19236/19236 [==============================] - 1s 38us/step - loss: 0.3519 - acc: 0.8379\n",
      "Epoch 68/100\n",
      "19236/19236 [==============================] - 1s 37us/step - loss: 0.3510 - acc: 0.8361\n",
      "Epoch 69/100\n",
      "19236/19236 [==============================] - 1s 37us/step - loss: 0.3458 - acc: 0.8385\n",
      "Epoch 70/100\n",
      "19236/19236 [==============================] - 1s 38us/step - loss: 0.3390 - acc: 0.8406: 0s - loss: 0.3312 - \n",
      "Epoch 71/100\n",
      "19236/19236 [==============================] - 1s 38us/step - loss: 0.3331 - acc: 0.8452\n",
      "Epoch 72/100\n",
      "19236/19236 [==============================] - 1s 37us/step - loss: 0.3328 - acc: 0.8431\n",
      "Epoch 73/100\n",
      "19236/19236 [==============================] - 1s 38us/step - loss: 0.3327 - acc: 0.8450\n",
      "Epoch 74/100\n",
      "19236/19236 [==============================] - 1s 37us/step - loss: 0.3306 - acc: 0.8456\n",
      "Epoch 75/100\n",
      "19236/19236 [==============================] - 1s 39us/step - loss: 0.3277 - acc: 0.8472\n",
      "Epoch 76/100\n",
      "19236/19236 [==============================] - 1s 37us/step - loss: 0.3270 - acc: 0.8487\n",
      "Epoch 77/100\n",
      "19236/19236 [==============================] - 1s 37us/step - loss: 0.3277 - acc: 0.8454\n",
      "Epoch 78/100\n",
      "19236/19236 [==============================] - 1s 39us/step - loss: 0.3246 - acc: 0.8478\n",
      "Epoch 79/100\n",
      "19236/19236 [==============================] - 1s 38us/step - loss: 0.3284 - acc: 0.8456\n",
      "Epoch 80/100\n",
      "19236/19236 [==============================] - 1s 38us/step - loss: 0.3244 - acc: 0.8488\n"
     ]
    },
    {
     "name": "stdout",
     "output_type": "stream",
     "text": [
      "Epoch 81/100\n",
      "19236/19236 [==============================] - 1s 35us/step - loss: 0.3208 - acc: 0.8498\n",
      "Epoch 82/100\n",
      "19236/19236 [==============================] - 1s 34us/step - loss: 0.3196 - acc: 0.8532\n",
      "Epoch 83/100\n",
      "19236/19236 [==============================] - 1s 34us/step - loss: 0.3230 - acc: 0.8497\n",
      "Epoch 84/100\n",
      "19236/19236 [==============================] - 1s 34us/step - loss: 0.3195 - acc: 0.8501\n",
      "Epoch 85/100\n",
      "19236/19236 [==============================] - 1s 37us/step - loss: 0.3197 - acc: 0.8518\n",
      "Epoch 86/100\n",
      "19236/19236 [==============================] - 1s 33us/step - loss: 0.3209 - acc: 0.8504\n",
      "Epoch 87/100\n",
      "19236/19236 [==============================] - 1s 34us/step - loss: 0.3128 - acc: 0.8556\n",
      "Epoch 88/100\n",
      "19236/19236 [==============================] - 1s 34us/step - loss: 0.3140 - acc: 0.8538\n",
      "Epoch 89/100\n",
      "19236/19236 [==============================] - 1s 32us/step - loss: 0.3108 - acc: 0.8581\n",
      "Epoch 90/100\n",
      "19236/19236 [==============================] - 1s 32us/step - loss: 0.3130 - acc: 0.8544\n",
      "Epoch 91/100\n",
      "19236/19236 [==============================] - 1s 33us/step - loss: 0.3072 - acc: 0.8592\n",
      "Epoch 92/100\n",
      "19236/19236 [==============================] - 1s 33us/step - loss: 0.3132 - acc: 0.8545\n",
      "Epoch 93/100\n",
      "19236/19236 [==============================] - 1s 32us/step - loss: 0.3145 - acc: 0.8542\n",
      "Epoch 94/100\n",
      "19236/19236 [==============================] - 1s 33us/step - loss: 0.3112 - acc: 0.8562\n",
      "Epoch 95/100\n",
      "19236/19236 [==============================] - 1s 33us/step - loss: 0.3052 - acc: 0.8586\n",
      "Epoch 96/100\n",
      "19236/19236 [==============================] - 1s 33us/step - loss: 0.3037 - acc: 0.8604\n",
      "Epoch 97/100\n",
      "19236/19236 [==============================] - 1s 33us/step - loss: 0.3062 - acc: 0.8581\n",
      "Epoch 98/100\n",
      "19236/19236 [==============================] - 1s 33us/step - loss: 0.3022 - acc: 0.8591\n",
      "Epoch 99/100\n",
      "19236/19236 [==============================] - 1s 33us/step - loss: 0.3043 - acc: 0.8591\n",
      "Epoch 100/100\n",
      "19236/19236 [==============================] - 1s 34us/step - loss: 0.3025 - acc: 0.8598\n"
     ]
    }
   ],
   "source": [
    "################################ ANN #####################################\n",
    "from deeplab import NN\n",
    "\n",
    "classifier = NN(3, 48, 41, 0, 1).ann()\n",
    "classifier.fit(X_train, y_train, batch_size = 50, nb_epoch = 100)\n",
    "y_pred = classifier.predict(X_test)\n",
    "y_pred = (y_pred > 0.5)"
   ]
  },
  {
   "cell_type": "code",
   "execution_count": 28,
   "metadata": {},
   "outputs": [],
   "source": [
    "############################ Evaluation ##################################\n",
    "from sklearn.metrics import confusion_matrix, accuracy_score, precision_recall_fscore_support\n",
    "acc = accuracy_score(y_test, y_pred)\n",
    "cm = confusion_matrix(y_test, y_pred)\n",
    "evaluate = precision_recall_fscore_support(y_test, y_pred)"
   ]
  },
  {
   "cell_type": "code",
   "execution_count": 29,
   "metadata": {},
   "outputs": [
    {
     "data": {
      "text/plain": [
       "0.8440424204616345"
      ]
     },
     "execution_count": 29,
     "metadata": {},
     "output_type": "execute_result"
    }
   ],
   "source": [
    "acc"
   ]
  },
  {
   "cell_type": "code",
   "execution_count": 30,
   "metadata": {},
   "outputs": [
    {
     "data": {
      "text/plain": [
       "array([[1882,  542],\n",
       "       [ 208, 2177]], dtype=int64)"
      ]
     },
     "execution_count": 30,
     "metadata": {},
     "output_type": "execute_result"
    }
   ],
   "source": [
    "cm"
   ]
  },
  {
   "cell_type": "code",
   "execution_count": 31,
   "metadata": {},
   "outputs": [
    {
     "data": {
      "text/plain": [
       "(array([0.90047847, 0.80066201]),\n",
       " array([0.77640264, 0.91278826]),\n",
       " array([0.83385024, 0.85305643]),\n",
       " array([2424, 2385], dtype=int64))"
      ]
     },
     "execution_count": 31,
     "metadata": {},
     "output_type": "execute_result"
    }
   ],
   "source": [
    "evaluate"
   ]
  },
  {
   "cell_type": "code",
   "execution_count": null,
   "metadata": {},
   "outputs": [],
   "source": [
    "# Fitting SVM to the Training set\n",
    "from sklearn.svm import SVC\n",
    "classifier = SVC(random_state = 0)\n",
    "classifier.fit(X_train, y_train)\n",
    "\n",
    "# Predicting the Test set results\n",
    "y_pred = classifier.predict(X_test)"
   ]
  },
  {
   "cell_type": "code",
   "execution_count": null,
   "metadata": {},
   "outputs": [],
   "source": [
    "############################ Evaluation ##################################\n",
    "from sklearn.metrics import confusion_matrix, accuracy_score, precision_recall_fscore_support\n",
    "acc = accuracy_score(y_test, y_pred)\n",
    "cm = confusion_matrix(y_test, y_pred)\n",
    "evaluate = precision_recall_fscore_support(y_test, y_pred)"
   ]
  },
  {
   "cell_type": "code",
   "execution_count": null,
   "metadata": {},
   "outputs": [],
   "source": [
    "acc"
   ]
  },
  {
   "cell_type": "code",
   "execution_count": null,
   "metadata": {},
   "outputs": [],
   "source": [
    "cm"
   ]
  },
  {
   "cell_type": "code",
   "execution_count": null,
   "metadata": {},
   "outputs": [],
   "source": [
    "evaluate"
   ]
  },
  {
   "cell_type": "code",
   "execution_count": null,
   "metadata": {},
   "outputs": [],
   "source": []
  }
 ],
 "metadata": {
  "kernelspec": {
   "display_name": "Python 3",
   "language": "python",
   "name": "python3"
  },
  "language_info": {
   "codemirror_mode": {
    "name": "ipython",
    "version": 3
   },
   "file_extension": ".py",
   "mimetype": "text/x-python",
   "name": "python",
   "nbconvert_exporter": "python",
   "pygments_lexer": "ipython3",
   "version": "3.6.4"
  },
  "varInspector": {
   "cols": {
    "lenName": 16,
    "lenType": 16,
    "lenVar": 40
   },
   "kernels_config": {
    "python": {
     "delete_cmd_postfix": "",
     "delete_cmd_prefix": "del ",
     "library": "var_list.py",
     "varRefreshCmd": "print(var_dic_list())"
    },
    "r": {
     "delete_cmd_postfix": ") ",
     "delete_cmd_prefix": "rm(",
     "library": "var_list.r",
     "varRefreshCmd": "cat(var_dic_list()) "
    }
   },
   "types_to_exclude": [
    "module",
    "function",
    "builtin_function_or_method",
    "instance",
    "_Feature"
   ],
   "window_display": false
  }
 },
 "nbformat": 4,
 "nbformat_minor": 2
}
