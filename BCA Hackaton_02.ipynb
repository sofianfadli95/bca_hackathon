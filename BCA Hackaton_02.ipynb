{
 "cells": [
  {
   "cell_type": "code",
   "execution_count": 1,
   "metadata": {},
   "outputs": [],
   "source": [
    "# import the necessary packages\n",
    "import numpy as np\n",
    "import pandas as pd\n",
    "import matplotlib.pyplot as plt\n",
    "import seaborn as sns\n",
    "import random\n",
    "from IPython.display import display"
   ]
  },
  {
   "cell_type": "code",
   "execution_count": 2,
   "metadata": {},
   "outputs": [],
   "source": [
    "# Load the dataset from csv file using pandas\n",
    "data = pd.read_csv('D:\\\\Lomba Hackaton BCA\\\\fraud_detection\\\\data_input_csv\\\\data_input\\\\fraud_train.csv',index_col=False)\n",
    "# Filling missing data in 'flag_transaksi_fraud' column\n",
    "data['flag_transaksi_fraud'].isnull().sum()\n",
    "data['flag_transaksi_fraud'].fillna(0, inplace = True)"
   ]
  },
  {
   "cell_type": "markdown",
   "metadata": {},
   "source": [
    "Melihat di Series 'id_negara' terdapat nilai unik apa saja"
   ]
  },
  {
   "cell_type": "code",
   "execution_count": 3,
   "metadata": {},
   "outputs": [
    {
     "data": {
      "text/plain": [
       "{-2, 45, 57, 64, 73, 96, 104, 149, 157, 168, 183, 188, 216}"
      ]
     },
     "execution_count": 3,
     "metadata": {},
     "output_type": "execute_result"
    }
   ],
   "source": [
    "set(data['id_negara'])"
   ]
  },
  {
   "cell_type": "code",
   "execution_count": 4,
   "metadata": {},
   "outputs": [
    {
     "data": {
      "text/html": [
       "<div>\n",
       "<style scoped>\n",
       "    .dataframe tbody tr th:only-of-type {\n",
       "        vertical-align: middle;\n",
       "    }\n",
       "\n",
       "    .dataframe tbody tr th {\n",
       "        vertical-align: top;\n",
       "    }\n",
       "\n",
       "    .dataframe thead th {\n",
       "        text-align: right;\n",
       "    }\n",
       "</style>\n",
       "<table border=\"1\" class=\"dataframe\">\n",
       "  <thead>\n",
       "    <tr style=\"text-align: right;\">\n",
       "      <th></th>\n",
       "      <th>X</th>\n",
       "      <th>id_tanggal_transaksi_awal</th>\n",
       "      <th>tanggal_transaksi_awal</th>\n",
       "      <th>tipe_kartu</th>\n",
       "      <th>id_merchant</th>\n",
       "      <th>nama_merchant</th>\n",
       "      <th>tipe_mesin</th>\n",
       "      <th>tipe_transaksi</th>\n",
       "      <th>nama_transaksi</th>\n",
       "      <th>nilai_transaksi</th>\n",
       "      <th>...</th>\n",
       "      <th>nama_channel</th>\n",
       "      <th>id_channel</th>\n",
       "      <th>flag_transaksi_finansial</th>\n",
       "      <th>status_transaksi</th>\n",
       "      <th>bank_pemilik_kartu</th>\n",
       "      <th>rata_rata_nilai_transaksi</th>\n",
       "      <th>maksimum_nilai_transaksi</th>\n",
       "      <th>minimum_nilai_transaksi</th>\n",
       "      <th>rata_rata_jumlah_transaksi</th>\n",
       "      <th>flag_transaksi_fraud</th>\n",
       "    </tr>\n",
       "  </thead>\n",
       "  <tbody>\n",
       "    <tr>\n",
       "      <th>1031</th>\n",
       "      <td>13142</td>\n",
       "      <td>2457420</td>\n",
       "      <td>2457449</td>\n",
       "      <td>103</td>\n",
       "      <td>-2</td>\n",
       "      <td>1798</td>\n",
       "      <td>-3</td>\n",
       "      <td>156</td>\n",
       "      <td>12</td>\n",
       "      <td>600000.0</td>\n",
       "      <td>...</td>\n",
       "      <td>5</td>\n",
       "      <td>8</td>\n",
       "      <td>False</td>\n",
       "      <td>3</td>\n",
       "      <td>999</td>\n",
       "      <td>439029.9451</td>\n",
       "      <td>3004500.0</td>\n",
       "      <td>40800.0</td>\n",
       "      <td>1.68</td>\n",
       "      <td>1</td>\n",
       "    </tr>\n",
       "    <tr>\n",
       "      <th>9187</th>\n",
       "      <td>14565</td>\n",
       "      <td>2457409</td>\n",
       "      <td>2457418</td>\n",
       "      <td>0</td>\n",
       "      <td>-2</td>\n",
       "      <td>1798</td>\n",
       "      <td>-3</td>\n",
       "      <td>156</td>\n",
       "      <td>12</td>\n",
       "      <td>1000000.0</td>\n",
       "      <td>...</td>\n",
       "      <td>5</td>\n",
       "      <td>8</td>\n",
       "      <td>False</td>\n",
       "      <td>3</td>\n",
       "      <td>999</td>\n",
       "      <td>335922.4615</td>\n",
       "      <td>2000000.0</td>\n",
       "      <td>100000.0</td>\n",
       "      <td>1.09</td>\n",
       "      <td>0</td>\n",
       "    </tr>\n",
       "    <tr>\n",
       "      <th>13010</th>\n",
       "      <td>12376</td>\n",
       "      <td>2457435</td>\n",
       "      <td>2457459</td>\n",
       "      <td>93</td>\n",
       "      <td>-2</td>\n",
       "      <td>1798</td>\n",
       "      <td>-3</td>\n",
       "      <td>156</td>\n",
       "      <td>12</td>\n",
       "      <td>1000000.0</td>\n",
       "      <td>...</td>\n",
       "      <td>3</td>\n",
       "      <td>8</td>\n",
       "      <td>False</td>\n",
       "      <td>3</td>\n",
       "      <td>999</td>\n",
       "      <td>683065.2174</td>\n",
       "      <td>8000000.0</td>\n",
       "      <td>20300.0</td>\n",
       "      <td>7.21</td>\n",
       "      <td>0</td>\n",
       "    </tr>\n",
       "  </tbody>\n",
       "</table>\n",
       "<p>3 rows × 28 columns</p>\n",
       "</div>"
      ],
      "text/plain": [
       "           X  id_tanggal_transaksi_awal  tanggal_transaksi_awal  tipe_kartu  \\\n",
       "1031   13142                    2457420                 2457449         103   \n",
       "9187   14565                    2457409                 2457418           0   \n",
       "13010  12376                    2457435                 2457459          93   \n",
       "\n",
       "       id_merchant  nama_merchant  tipe_mesin  tipe_transaksi  nama_transaksi  \\\n",
       "1031            -2           1798          -3             156              12   \n",
       "9187            -2           1798          -3             156              12   \n",
       "13010           -2           1798          -3             156              12   \n",
       "\n",
       "       nilai_transaksi          ...           nama_channel  id_channel  \\\n",
       "1031          600000.0          ...                      5           8   \n",
       "9187         1000000.0          ...                      5           8   \n",
       "13010        1000000.0          ...                      3           8   \n",
       "\n",
       "       flag_transaksi_finansial  status_transaksi  bank_pemilik_kartu  \\\n",
       "1031                      False                 3                 999   \n",
       "9187                      False                 3                 999   \n",
       "13010                     False                 3                 999   \n",
       "\n",
       "       rata_rata_nilai_transaksi  maksimum_nilai_transaksi  \\\n",
       "1031                 439029.9451                 3004500.0   \n",
       "9187                 335922.4615                 2000000.0   \n",
       "13010                683065.2174                 8000000.0   \n",
       "\n",
       "       minimum_nilai_transaksi  rata_rata_jumlah_transaksi  \\\n",
       "1031                   40800.0                        1.68   \n",
       "9187                  100000.0                        1.09   \n",
       "13010                  20300.0                        7.21   \n",
       "\n",
       "       flag_transaksi_fraud  \n",
       "1031                      1  \n",
       "9187                      0  \n",
       "13010                     0  \n",
       "\n",
       "[3 rows x 28 columns]"
      ]
     },
     "execution_count": 4,
     "metadata": {},
     "output_type": "execute_result"
    }
   ],
   "source": [
    "data.loc[data['id_negara'] == 216]"
   ]
  },
  {
   "cell_type": "code",
   "execution_count": 9,
   "metadata": {},
   "outputs": [
    {
     "data": {
      "text/plain": [
       "id_negara  flag_transaksi_fraud\n",
       "-2         1                           3\n",
       "           0                           1\n",
       " 45        0                           1\n",
       " 57        0                           1\n",
       " 64        0                           1\n",
       " 73        0                           6\n",
       "           1                           5\n",
       " 96        0                       12184\n",
       "           1                         897\n",
       " 104       0                           5\n",
       " 149       0                           6\n",
       "           1                           4\n",
       " 157       0                           3\n",
       " 168       0                           2\n",
       " 183       0                           1\n",
       " 188       0                           2\n",
       " 216       0                           2\n",
       "           1                           1\n",
       "Name: flag_transaksi_fraud, dtype: int64"
      ]
     },
     "execution_count": 9,
     "metadata": {},
     "output_type": "execute_result"
    }
   ],
   "source": [
    "data.groupby('id_negara').flag_transaksi_fraud.value_counts()"
   ]
  },
  {
   "cell_type": "markdown",
   "metadata": {},
   "source": [
    "Mari kita pastikan terlebih dahulu apakah ada nilai null pada feature yg akan kita gunakan"
   ]
  },
  {
   "cell_type": "code",
   "execution_count": 3,
   "metadata": {},
   "outputs": [],
   "source": [
    "data.dropna(inplace=True)"
   ]
  },
  {
   "cell_type": "code",
   "execution_count": 4,
   "metadata": {},
   "outputs": [
    {
     "data": {
      "text/plain": [
       "1300      38000.0\n",
       "4246      38000.0\n",
       "12774    100000.0\n",
       "2091     100000.0\n",
       "11385    100000.0\n",
       "Name: maksimum_nilai_transaksi, dtype: float64"
      ]
     },
     "execution_count": 4,
     "metadata": {},
     "output_type": "execute_result"
    }
   ],
   "source": [
    "data['maksimum_nilai_transaksi'].sort_values(axis=0, na_position='first').head()"
   ]
  },
  {
   "cell_type": "markdown",
   "metadata": {},
   "source": [
    "Sekarang, mari kita tambahkan datetime columns pada DataFrame"
   ]
  },
  {
   "cell_type": "code",
   "execution_count": 5,
   "metadata": {},
   "outputs": [],
   "source": [
    "time = data['waktu_transaksi']\n",
    "time = time.tolist()"
   ]
  },
  {
   "cell_type": "code",
   "execution_count": 9,
   "metadata": {},
   "outputs": [],
   "source": [
    "# change_format_time berfungsi utk mengubah format time menjadi 'jam', 'menit', dan 'detik'\n",
    "def change_format_time(time):\n",
    "    hour = int(time / 10000)\n",
    "    minute = int((time - (hour*10000))/100)\n",
    "    second = time - (hour*10000) - (minute*100)\n",
    "    return hour, minute, second\n",
    "\n",
    "hours = []\n",
    "minutes = []\n",
    "seconds = []\n",
    "\n",
    "for element in time:\n",
    "    hour, minute, second = change_format_time(element)\n",
    "    hours.append(hour)\n",
    "    minutes.append(minute)\n",
    "    seconds.append(second)"
   ]
  },
  {
   "cell_type": "code",
   "execution_count": 12,
   "metadata": {},
   "outputs": [],
   "source": [
    "data['hour'] = [x for x in hours if x is not None]\n",
    "data['minute'] = [x for x in minutes if x is not None]\n",
    "data['second'] = [x for x in seconds if x is not None]"
   ]
  },
  {
   "cell_type": "code",
   "execution_count": 14,
   "metadata": {},
   "outputs": [
    {
     "data": {
      "text/html": [
       "<div>\n",
       "<style scoped>\n",
       "    .dataframe tbody tr th:only-of-type {\n",
       "        vertical-align: middle;\n",
       "    }\n",
       "\n",
       "    .dataframe tbody tr th {\n",
       "        vertical-align: top;\n",
       "    }\n",
       "\n",
       "    .dataframe thead th {\n",
       "        text-align: right;\n",
       "    }\n",
       "</style>\n",
       "<table border=\"1\" class=\"dataframe\">\n",
       "  <thead>\n",
       "    <tr style=\"text-align: right;\">\n",
       "      <th></th>\n",
       "      <th>X</th>\n",
       "      <th>id_tanggal_transaksi_awal</th>\n",
       "      <th>tanggal_transaksi_awal</th>\n",
       "      <th>tipe_kartu</th>\n",
       "      <th>id_merchant</th>\n",
       "      <th>nama_merchant</th>\n",
       "      <th>tipe_mesin</th>\n",
       "      <th>tipe_transaksi</th>\n",
       "      <th>nama_transaksi</th>\n",
       "      <th>nilai_transaksi</th>\n",
       "      <th>...</th>\n",
       "      <th>status_transaksi</th>\n",
       "      <th>bank_pemilik_kartu</th>\n",
       "      <th>rata_rata_nilai_transaksi</th>\n",
       "      <th>maksimum_nilai_transaksi</th>\n",
       "      <th>minimum_nilai_transaksi</th>\n",
       "      <th>rata_rata_jumlah_transaksi</th>\n",
       "      <th>flag_transaksi_fraud</th>\n",
       "      <th>hour</th>\n",
       "      <th>minute</th>\n",
       "      <th>second</th>\n",
       "    </tr>\n",
       "  </thead>\n",
       "  <tbody>\n",
       "    <tr>\n",
       "      <th>0</th>\n",
       "      <td>4676</td>\n",
       "      <td>2457646</td>\n",
       "      <td>2457726</td>\n",
       "      <td>111</td>\n",
       "      <td>-2</td>\n",
       "      <td>1798</td>\n",
       "      <td>2605127</td>\n",
       "      <td>26</td>\n",
       "      <td>10</td>\n",
       "      <td>2200000.0</td>\n",
       "      <td>...</td>\n",
       "      <td>3</td>\n",
       "      <td>999</td>\n",
       "      <td>1.332293e+06</td>\n",
       "      <td>9750000.0</td>\n",
       "      <td>10000.0</td>\n",
       "      <td>2.73</td>\n",
       "      <td>0</td>\n",
       "      <td>19</td>\n",
       "      <td>39</td>\n",
       "      <td>55</td>\n",
       "    </tr>\n",
       "    <tr>\n",
       "      <th>1</th>\n",
       "      <td>788</td>\n",
       "      <td>2457419</td>\n",
       "      <td>2457507</td>\n",
       "      <td>111</td>\n",
       "      <td>-2</td>\n",
       "      <td>1798</td>\n",
       "      <td>-3</td>\n",
       "      <td>156</td>\n",
       "      <td>12</td>\n",
       "      <td>2500000.0</td>\n",
       "      <td>...</td>\n",
       "      <td>3</td>\n",
       "      <td>999</td>\n",
       "      <td>1.369048e+06</td>\n",
       "      <td>10000000.0</td>\n",
       "      <td>30000.0</td>\n",
       "      <td>2.33</td>\n",
       "      <td>1</td>\n",
       "      <td>7</td>\n",
       "      <td>31</td>\n",
       "      <td>40</td>\n",
       "    </tr>\n",
       "    <tr>\n",
       "      <th>2</th>\n",
       "      <td>1520</td>\n",
       "      <td>2457521</td>\n",
       "      <td>2457612</td>\n",
       "      <td>2</td>\n",
       "      <td>-2</td>\n",
       "      <td>1798</td>\n",
       "      <td>-3</td>\n",
       "      <td>156</td>\n",
       "      <td>12</td>\n",
       "      <td>1200000.0</td>\n",
       "      <td>...</td>\n",
       "      <td>3</td>\n",
       "      <td>999</td>\n",
       "      <td>1.552346e+07</td>\n",
       "      <td>100000000.0</td>\n",
       "      <td>41804.0</td>\n",
       "      <td>2.40</td>\n",
       "      <td>0</td>\n",
       "      <td>14</td>\n",
       "      <td>2</td>\n",
       "      <td>16</td>\n",
       "    </tr>\n",
       "    <tr>\n",
       "      <th>3</th>\n",
       "      <td>9346</td>\n",
       "      <td>2457659</td>\n",
       "      <td>2457746</td>\n",
       "      <td>103</td>\n",
       "      <td>75336</td>\n",
       "      <td>249</td>\n",
       "      <td>2806174</td>\n",
       "      <td>58</td>\n",
       "      <td>6</td>\n",
       "      <td>320000.0</td>\n",
       "      <td>...</td>\n",
       "      <td>3</td>\n",
       "      <td>999</td>\n",
       "      <td>7.117647e+05</td>\n",
       "      <td>6884408.0</td>\n",
       "      <td>10000.0</td>\n",
       "      <td>1.98</td>\n",
       "      <td>0</td>\n",
       "      <td>15</td>\n",
       "      <td>51</td>\n",
       "      <td>17</td>\n",
       "    </tr>\n",
       "    <tr>\n",
       "      <th>4</th>\n",
       "      <td>2914</td>\n",
       "      <td>2457311</td>\n",
       "      <td>2457385</td>\n",
       "      <td>0</td>\n",
       "      <td>-2</td>\n",
       "      <td>1798</td>\n",
       "      <td>2334932</td>\n",
       "      <td>26</td>\n",
       "      <td>10</td>\n",
       "      <td>150000.0</td>\n",
       "      <td>...</td>\n",
       "      <td>3</td>\n",
       "      <td>999</td>\n",
       "      <td>6.179683e+05</td>\n",
       "      <td>2500000.0</td>\n",
       "      <td>100000.0</td>\n",
       "      <td>1.46</td>\n",
       "      <td>0</td>\n",
       "      <td>14</td>\n",
       "      <td>33</td>\n",
       "      <td>39</td>\n",
       "    </tr>\n",
       "  </tbody>\n",
       "</table>\n",
       "<p>5 rows × 31 columns</p>\n",
       "</div>"
      ],
      "text/plain": [
       "      X  id_tanggal_transaksi_awal  tanggal_transaksi_awal  tipe_kartu  \\\n",
       "0  4676                    2457646                 2457726         111   \n",
       "1   788                    2457419                 2457507         111   \n",
       "2  1520                    2457521                 2457612           2   \n",
       "3  9346                    2457659                 2457746         103   \n",
       "4  2914                    2457311                 2457385           0   \n",
       "\n",
       "   id_merchant  nama_merchant  tipe_mesin  tipe_transaksi  nama_transaksi  \\\n",
       "0           -2           1798     2605127              26              10   \n",
       "1           -2           1798          -3             156              12   \n",
       "2           -2           1798          -3             156              12   \n",
       "3        75336            249     2806174              58               6   \n",
       "4           -2           1798     2334932              26              10   \n",
       "\n",
       "   nilai_transaksi   ...    status_transaksi  bank_pemilik_kartu  \\\n",
       "0        2200000.0   ...                   3                 999   \n",
       "1        2500000.0   ...                   3                 999   \n",
       "2        1200000.0   ...                   3                 999   \n",
       "3         320000.0   ...                   3                 999   \n",
       "4         150000.0   ...                   3                 999   \n",
       "\n",
       "   rata_rata_nilai_transaksi  maksimum_nilai_transaksi  \\\n",
       "0               1.332293e+06                 9750000.0   \n",
       "1               1.369048e+06                10000000.0   \n",
       "2               1.552346e+07               100000000.0   \n",
       "3               7.117647e+05                 6884408.0   \n",
       "4               6.179683e+05                 2500000.0   \n",
       "\n",
       "   minimum_nilai_transaksi  rata_rata_jumlah_transaksi  flag_transaksi_fraud  \\\n",
       "0                  10000.0                        2.73                     0   \n",
       "1                  30000.0                        2.33                     1   \n",
       "2                  41804.0                        2.40                     0   \n",
       "3                  10000.0                        1.98                     0   \n",
       "4                 100000.0                        1.46                     0   \n",
       "\n",
       "   hour  minute  second  \n",
       "0    19      39      55  \n",
       "1     7      31      40  \n",
       "2    14       2      16  \n",
       "3    15      51      17  \n",
       "4    14      33      39  \n",
       "\n",
       "[5 rows x 31 columns]"
      ]
     },
     "execution_count": 14,
     "metadata": {},
     "output_type": "execute_result"
    }
   ],
   "source": [
    "data.head()"
   ]
  },
  {
   "cell_type": "code",
   "execution_count": 6,
   "metadata": {},
   "outputs": [],
   "source": [
    "def time_to_second(time):\n",
    "    hour = int(time / 10000)\n",
    "    minute = int((time - (hour*10000))/100)\n",
    "    second = time - (hour*10000) - (minute*100)\n",
    "    result = (hour*3600) + (minute*60) + second\n",
    "    return result\n",
    "\n",
    "time_seconds = []\n",
    "\n",
    "for element in time:\n",
    "    result = time_to_second(element)\n",
    "    time_seconds.append(result)"
   ]
  },
  {
   "cell_type": "code",
   "execution_count": 7,
   "metadata": {},
   "outputs": [],
   "source": [
    "data['time_seconds'] = [x for x in time_seconds if x is not None]"
   ]
  },
  {
   "cell_type": "code",
   "execution_count": 8,
   "metadata": {},
   "outputs": [
    {
     "data": {
      "text/html": [
       "<div>\n",
       "<style scoped>\n",
       "    .dataframe tbody tr th:only-of-type {\n",
       "        vertical-align: middle;\n",
       "    }\n",
       "\n",
       "    .dataframe tbody tr th {\n",
       "        vertical-align: top;\n",
       "    }\n",
       "\n",
       "    .dataframe thead th {\n",
       "        text-align: right;\n",
       "    }\n",
       "</style>\n",
       "<table border=\"1\" class=\"dataframe\">\n",
       "  <thead>\n",
       "    <tr style=\"text-align: right;\">\n",
       "      <th></th>\n",
       "      <th>X</th>\n",
       "      <th>id_tanggal_transaksi_awal</th>\n",
       "      <th>tanggal_transaksi_awal</th>\n",
       "      <th>tipe_kartu</th>\n",
       "      <th>id_merchant</th>\n",
       "      <th>nama_merchant</th>\n",
       "      <th>tipe_mesin</th>\n",
       "      <th>tipe_transaksi</th>\n",
       "      <th>nama_transaksi</th>\n",
       "      <th>nilai_transaksi</th>\n",
       "      <th>...</th>\n",
       "      <th>id_channel</th>\n",
       "      <th>flag_transaksi_finansial</th>\n",
       "      <th>status_transaksi</th>\n",
       "      <th>bank_pemilik_kartu</th>\n",
       "      <th>rata_rata_nilai_transaksi</th>\n",
       "      <th>maksimum_nilai_transaksi</th>\n",
       "      <th>minimum_nilai_transaksi</th>\n",
       "      <th>rata_rata_jumlah_transaksi</th>\n",
       "      <th>flag_transaksi_fraud</th>\n",
       "      <th>time_seconds</th>\n",
       "    </tr>\n",
       "  </thead>\n",
       "  <tbody>\n",
       "    <tr>\n",
       "      <th>0</th>\n",
       "      <td>4676</td>\n",
       "      <td>2457646</td>\n",
       "      <td>2457726</td>\n",
       "      <td>111</td>\n",
       "      <td>-2</td>\n",
       "      <td>1798</td>\n",
       "      <td>2605127</td>\n",
       "      <td>26</td>\n",
       "      <td>10</td>\n",
       "      <td>2200000.0</td>\n",
       "      <td>...</td>\n",
       "      <td>9</td>\n",
       "      <td>False</td>\n",
       "      <td>3</td>\n",
       "      <td>999</td>\n",
       "      <td>1.332293e+06</td>\n",
       "      <td>9750000.0</td>\n",
       "      <td>10000.0</td>\n",
       "      <td>2.73</td>\n",
       "      <td>0</td>\n",
       "      <td>70795</td>\n",
       "    </tr>\n",
       "    <tr>\n",
       "      <th>1</th>\n",
       "      <td>788</td>\n",
       "      <td>2457419</td>\n",
       "      <td>2457507</td>\n",
       "      <td>111</td>\n",
       "      <td>-2</td>\n",
       "      <td>1798</td>\n",
       "      <td>-3</td>\n",
       "      <td>156</td>\n",
       "      <td>12</td>\n",
       "      <td>2500000.0</td>\n",
       "      <td>...</td>\n",
       "      <td>8</td>\n",
       "      <td>False</td>\n",
       "      <td>3</td>\n",
       "      <td>999</td>\n",
       "      <td>1.369048e+06</td>\n",
       "      <td>10000000.0</td>\n",
       "      <td>30000.0</td>\n",
       "      <td>2.33</td>\n",
       "      <td>1</td>\n",
       "      <td>27100</td>\n",
       "    </tr>\n",
       "    <tr>\n",
       "      <th>2</th>\n",
       "      <td>1520</td>\n",
       "      <td>2457521</td>\n",
       "      <td>2457612</td>\n",
       "      <td>2</td>\n",
       "      <td>-2</td>\n",
       "      <td>1798</td>\n",
       "      <td>-3</td>\n",
       "      <td>156</td>\n",
       "      <td>12</td>\n",
       "      <td>1200000.0</td>\n",
       "      <td>...</td>\n",
       "      <td>8</td>\n",
       "      <td>False</td>\n",
       "      <td>3</td>\n",
       "      <td>999</td>\n",
       "      <td>1.552346e+07</td>\n",
       "      <td>100000000.0</td>\n",
       "      <td>41804.0</td>\n",
       "      <td>2.40</td>\n",
       "      <td>0</td>\n",
       "      <td>50536</td>\n",
       "    </tr>\n",
       "    <tr>\n",
       "      <th>3</th>\n",
       "      <td>9346</td>\n",
       "      <td>2457659</td>\n",
       "      <td>2457746</td>\n",
       "      <td>103</td>\n",
       "      <td>75336</td>\n",
       "      <td>249</td>\n",
       "      <td>2806174</td>\n",
       "      <td>58</td>\n",
       "      <td>6</td>\n",
       "      <td>320000.0</td>\n",
       "      <td>...</td>\n",
       "      <td>4</td>\n",
       "      <td>False</td>\n",
       "      <td>3</td>\n",
       "      <td>999</td>\n",
       "      <td>7.117647e+05</td>\n",
       "      <td>6884408.0</td>\n",
       "      <td>10000.0</td>\n",
       "      <td>1.98</td>\n",
       "      <td>0</td>\n",
       "      <td>57077</td>\n",
       "    </tr>\n",
       "    <tr>\n",
       "      <th>4</th>\n",
       "      <td>2914</td>\n",
       "      <td>2457311</td>\n",
       "      <td>2457385</td>\n",
       "      <td>0</td>\n",
       "      <td>-2</td>\n",
       "      <td>1798</td>\n",
       "      <td>2334932</td>\n",
       "      <td>26</td>\n",
       "      <td>10</td>\n",
       "      <td>150000.0</td>\n",
       "      <td>...</td>\n",
       "      <td>9</td>\n",
       "      <td>False</td>\n",
       "      <td>3</td>\n",
       "      <td>999</td>\n",
       "      <td>6.179683e+05</td>\n",
       "      <td>2500000.0</td>\n",
       "      <td>100000.0</td>\n",
       "      <td>1.46</td>\n",
       "      <td>0</td>\n",
       "      <td>52419</td>\n",
       "    </tr>\n",
       "  </tbody>\n",
       "</table>\n",
       "<p>5 rows × 29 columns</p>\n",
       "</div>"
      ],
      "text/plain": [
       "      X  id_tanggal_transaksi_awal  tanggal_transaksi_awal  tipe_kartu  \\\n",
       "0  4676                    2457646                 2457726         111   \n",
       "1   788                    2457419                 2457507         111   \n",
       "2  1520                    2457521                 2457612           2   \n",
       "3  9346                    2457659                 2457746         103   \n",
       "4  2914                    2457311                 2457385           0   \n",
       "\n",
       "   id_merchant  nama_merchant  tipe_mesin  tipe_transaksi  nama_transaksi  \\\n",
       "0           -2           1798     2605127              26              10   \n",
       "1           -2           1798          -3             156              12   \n",
       "2           -2           1798          -3             156              12   \n",
       "3        75336            249     2806174              58               6   \n",
       "4           -2           1798     2334932              26              10   \n",
       "\n",
       "   nilai_transaksi      ...       id_channel  flag_transaksi_finansial  \\\n",
       "0        2200000.0      ...                9                     False   \n",
       "1        2500000.0      ...                8                     False   \n",
       "2        1200000.0      ...                8                     False   \n",
       "3         320000.0      ...                4                     False   \n",
       "4         150000.0      ...                9                     False   \n",
       "\n",
       "   status_transaksi  bank_pemilik_kartu  rata_rata_nilai_transaksi  \\\n",
       "0                 3                 999               1.332293e+06   \n",
       "1                 3                 999               1.369048e+06   \n",
       "2                 3                 999               1.552346e+07   \n",
       "3                 3                 999               7.117647e+05   \n",
       "4                 3                 999               6.179683e+05   \n",
       "\n",
       "   maksimum_nilai_transaksi  minimum_nilai_transaksi  \\\n",
       "0                 9750000.0                  10000.0   \n",
       "1                10000000.0                  30000.0   \n",
       "2               100000000.0                  41804.0   \n",
       "3                 6884408.0                  10000.0   \n",
       "4                 2500000.0                 100000.0   \n",
       "\n",
       "   rata_rata_jumlah_transaksi  flag_transaksi_fraud  time_seconds  \n",
       "0                        2.73                     0         70795  \n",
       "1                        2.33                     1         27100  \n",
       "2                        2.40                     0         50536  \n",
       "3                        1.98                     0         57077  \n",
       "4                        1.46                     0         52419  \n",
       "\n",
       "[5 rows x 29 columns]"
      ]
     },
     "execution_count": 8,
     "metadata": {},
     "output_type": "execute_result"
    }
   ],
   "source": [
    "data.head()"
   ]
  },
  {
   "cell_type": "code",
   "execution_count": 11,
   "metadata": {},
   "outputs": [],
   "source": [
    "fraud_transaction = data.loc[data['flag_transaksi_fraud'] == 1, : ]\n",
    "non_fraud = data.loc[data['flag_transaksi_fraud'] == 0, : ]"
   ]
  },
  {
   "cell_type": "code",
   "execution_count": 17,
   "metadata": {},
   "outputs": [
    {
     "data": {
      "text/plain": [
       "{-2, 73, 96, 149, 216}"
      ]
     },
     "execution_count": 17,
     "metadata": {},
     "output_type": "execute_result"
    }
   ],
   "source": [
    "set(fraud_transaction['id_negara'])"
   ]
  },
  {
   "cell_type": "code",
   "execution_count": 31,
   "metadata": {},
   "outputs": [
    {
     "data": {
      "image/png": "[encoded data removed]",
      "text/plain": [
       "<matplotlib.figure.Figure at 0x25444ae2630>"
      ]
     },
     "metadata": {},
     "output_type": "display_data"
    }
   ],
   "source": [
    "# Plot transaksi fraud di negara -2\n",
    "fraud_transaction.loc[fraud_transaction['id_negara'] == -2, :]['time_seconds'].plot.hist(grid=True, bins=24, rwidth=0.9,\n",
    "                   color='#607c8e')\n",
    "plt.title('Fraud Transaction per hours in -2')\n",
    "plt.xlabel('Times')\n",
    "plt.ylabel('Counts')\n",
    "plt.grid(axis='y', alpha=0.75)"
   ]
  },
  {
   "cell_type": "code",
   "execution_count": 32,
   "metadata": {},
   "outputs": [
    {
     "data": {
      "image/png": "[encoded data removed]",
      "text/plain": [
       "<matplotlib.figure.Figure at 0x25443d28e10>"
      ]
     },
     "metadata": {},
     "output_type": "display_data"
    }
   ],
   "source": [
    "# Plot transaksi fraud di negara 73\n",
    "fraud_transaction.loc[fraud_transaction['id_negara'] == 73, :]['time_seconds'].plot.hist(grid=True, bins=24, rwidth=0.9,\n",
    "                   color='#607c8e')\n",
    "plt.title('Fraud Transaction per hours in 73')\n",
    "plt.xlabel('Times')\n",
    "plt.ylabel('Counts')\n",
    "plt.grid(axis='y', alpha=0.75)"
   ]
  },
  {
   "cell_type": "code",
   "execution_count": 34,
   "metadata": {},
   "outputs": [
    {
     "data": {
      "image/png": "[encoded data removed]",
      "text/plain": [
       "<matplotlib.figure.Figure at 0x25446db6b00>"
      ]
     },
     "metadata": {},
     "output_type": "display_data"
    }
   ],
   "source": [
    "# Plot transaksi fraud di negara 149\n",
    "fraud_transaction.loc[fraud_transaction['id_negara'] == 149, :]['time_seconds'].plot.hist(grid=True, bins=24, rwidth=0.9,\n",
    "                   color='#607c8e')\n",
    "plt.title('Fraud Transaction per hours in 149')\n",
    "plt.xlabel('Times')\n",
    "plt.ylabel('Counts')\n",
    "plt.grid(axis='y', alpha=0.75)"
   ]
  },
  {
   "cell_type": "code",
   "execution_count": 35,
   "metadata": {},
   "outputs": [
    {
     "data": {
      "image/png": "[encoded data removed]",
      "text/plain": [
       "<matplotlib.figure.Figure at 0x25442441278>"
      ]
     },
     "metadata": {},
     "output_type": "display_data"
    }
   ],
   "source": [
    "# Plot transaksi fraud di negara 216\n",
    "fraud_transaction.loc[fraud_transaction['id_negara'] == 216, :]['time_seconds'].plot.hist(grid=True, bins=24, rwidth=0.9,\n",
    "                   color='#607c8e')\n",
    "plt.title('Fraud Transaction per hours in 216')\n",
    "plt.xlabel('Times')\n",
    "plt.ylabel('Counts')\n",
    "plt.grid(axis='y', alpha=0.75)"
   ]
  },
  {
   "cell_type": "code",
   "execution_count": 36,
   "metadata": {},
   "outputs": [
    {
     "data": {
      "image/png": "[encoded data removed]",
      "text/plain": [
       "<matplotlib.figure.Figure at 0x2544243b588>"
      ]
     },
     "metadata": {},
     "output_type": "display_data"
    }
   ],
   "source": [
    "# Plot transaksi fraud di negara 96\n",
    "fraud_transaction.loc[fraud_transaction['id_negara'] == 96, :]['time_seconds'].plot.hist(grid=True, bins=24, rwidth=0.9,\n",
    "                   color='#607c8e')\n",
    "plt.title('Fraud Transaction per hours in 96')\n",
    "plt.xlabel('Times')\n",
    "plt.ylabel('Counts')\n",
    "plt.grid(axis='y', alpha=0.75)"
   ]
  },
  {
   "cell_type": "code",
   "execution_count": 39,
   "metadata": {},
   "outputs": [
    {
     "data": {
      "text/plain": [
       " 96     881\n",
       " 73       5\n",
       " 149      4\n",
       "-2        3\n",
       " 216      1\n",
       "Name: id_negara, dtype: int64"
      ]
     },
     "execution_count": 39,
     "metadata": {},
     "output_type": "execute_result"
    }
   ],
   "source": [
    "fraud_transaction['id_negara'].value_counts()"
   ]
  },
  {
   "cell_type": "code",
   "execution_count": 22,
   "metadata": {},
   "outputs": [
    {
     "data": {
      "text/plain": [
       "Index(['X', 'id_tanggal_transaksi_awal', 'tanggal_transaksi_awal',\n",
       "       'tipe_kartu', 'id_merchant', 'nama_merchant', 'tipe_mesin',\n",
       "       'tipe_transaksi', 'nama_transaksi', 'nilai_transaksi', 'id_negara',\n",
       "       'nama_negara', 'nama_kota', 'lokasi_mesin', 'pemilik_mesin',\n",
       "       'waktu_transaksi', 'kuartal_transaksi', 'kepemilikan_kartu',\n",
       "       'nama_channel', 'id_channel', 'flag_transaksi_finansial',\n",
       "       'status_transaksi', 'bank_pemilik_kartu', 'rata_rata_nilai_transaksi',\n",
       "       'maksimum_nilai_transaksi', 'minimum_nilai_transaksi',\n",
       "       'rata_rata_jumlah_transaksi', 'flag_transaksi_fraud', 'hour', 'minute',\n",
       "       'second', 'time_seconds'],\n",
       "      dtype='object')"
      ]
     },
     "execution_count": 22,
     "metadata": {},
     "output_type": "execute_result"
    }
   ],
   "source": [
    "data.columns"
   ]
  },
  {
   "cell_type": "code",
   "execution_count": 40,
   "metadata": {},
   "outputs": [
    {
     "data": {
      "text/plain": [
       "2    549\n",
       "1    345\n",
       "Name: kepemilikan_kartu, dtype: int64"
      ]
     },
     "execution_count": 40,
     "metadata": {},
     "output_type": "execute_result"
    }
   ],
   "source": [
    "fraud_transaction['kepemilikan_kartu'].value_counts()"
   ]
  },
  {
   "cell_type": "code",
   "execution_count": 22,
   "metadata": {},
   "outputs": [],
   "source": [
    "%matplotlib inline"
   ]
  },
  {
   "cell_type": "markdown",
   "metadata": {},
   "source": [
    "Sekarang, mari kita pisahkan terlebih dahulu transaksi yg fraud dengan yg non fraud"
   ]
  },
  {
   "cell_type": "code",
   "execution_count": 12,
   "metadata": {},
   "outputs": [],
   "source": [
    "fraud_transaction = data.loc[data['flag_transaksi_fraud'] == 1, : ]\n",
    "non_fraud = data.loc[data['flag_transaksi_fraud'] == 0, : ]"
   ]
  },
  {
   "cell_type": "code",
   "execution_count": 13,
   "metadata": {},
   "outputs": [
    {
     "data": {
      "text/html": [
       "<div>\n",
       "<style scoped>\n",
       "    .dataframe tbody tr th:only-of-type {\n",
       "        vertical-align: middle;\n",
       "    }\n",
       "\n",
       "    .dataframe tbody tr th {\n",
       "        vertical-align: top;\n",
       "    }\n",
       "\n",
       "    .dataframe thead th {\n",
       "        text-align: right;\n",
       "    }\n",
       "</style>\n",
       "<table border=\"1\" class=\"dataframe\">\n",
       "  <thead>\n",
       "    <tr style=\"text-align: right;\">\n",
       "      <th></th>\n",
       "      <th>X</th>\n",
       "      <th>id_tanggal_transaksi_awal</th>\n",
       "      <th>tanggal_transaksi_awal</th>\n",
       "      <th>tipe_kartu</th>\n",
       "      <th>id_merchant</th>\n",
       "      <th>nama_merchant</th>\n",
       "      <th>tipe_mesin</th>\n",
       "      <th>tipe_transaksi</th>\n",
       "      <th>nama_transaksi</th>\n",
       "      <th>nilai_transaksi</th>\n",
       "      <th>...</th>\n",
       "      <th>flag_transaksi_finansial</th>\n",
       "      <th>status_transaksi</th>\n",
       "      <th>bank_pemilik_kartu</th>\n",
       "      <th>rata_rata_nilai_transaksi</th>\n",
       "      <th>maksimum_nilai_transaksi</th>\n",
       "      <th>minimum_nilai_transaksi</th>\n",
       "      <th>rata_rata_jumlah_transaksi</th>\n",
       "      <th>flag_transaksi_fraud</th>\n",
       "      <th>grouped_time</th>\n",
       "      <th>selisih_transaksi</th>\n",
       "    </tr>\n",
       "  </thead>\n",
       "  <tbody>\n",
       "    <tr>\n",
       "      <th>1</th>\n",
       "      <td>788</td>\n",
       "      <td>2457419</td>\n",
       "      <td>2457507</td>\n",
       "      <td>111</td>\n",
       "      <td>-2</td>\n",
       "      <td>1798</td>\n",
       "      <td>-3</td>\n",
       "      <td>156</td>\n",
       "      <td>12</td>\n",
       "      <td>2500000.0</td>\n",
       "      <td>...</td>\n",
       "      <td>False</td>\n",
       "      <td>3</td>\n",
       "      <td>999</td>\n",
       "      <td>1.369048e+06</td>\n",
       "      <td>10000000.0</td>\n",
       "      <td>30000.0</td>\n",
       "      <td>2.33</td>\n",
       "      <td>1</td>\n",
       "      <td>1</td>\n",
       "      <td>1.130952e+06</td>\n",
       "    </tr>\n",
       "    <tr>\n",
       "      <th>16</th>\n",
       "      <td>3438</td>\n",
       "      <td>2457344</td>\n",
       "      <td>2457385</td>\n",
       "      <td>111</td>\n",
       "      <td>-2</td>\n",
       "      <td>1798</td>\n",
       "      <td>-3</td>\n",
       "      <td>156</td>\n",
       "      <td>12</td>\n",
       "      <td>1300000.0</td>\n",
       "      <td>...</td>\n",
       "      <td>False</td>\n",
       "      <td>3</td>\n",
       "      <td>999</td>\n",
       "      <td>1.121962e+06</td>\n",
       "      <td>2700000.0</td>\n",
       "      <td>19896.0</td>\n",
       "      <td>2.37</td>\n",
       "      <td>1</td>\n",
       "      <td>2</td>\n",
       "      <td>1.780375e+05</td>\n",
       "    </tr>\n",
       "    <tr>\n",
       "      <th>21</th>\n",
       "      <td>5508</td>\n",
       "      <td>2457555</td>\n",
       "      <td>2457614</td>\n",
       "      <td>104</td>\n",
       "      <td>-2</td>\n",
       "      <td>1798</td>\n",
       "      <td>2141266</td>\n",
       "      <td>238</td>\n",
       "      <td>9</td>\n",
       "      <td>500000.0</td>\n",
       "      <td>...</td>\n",
       "      <td>False</td>\n",
       "      <td>3</td>\n",
       "      <td>999</td>\n",
       "      <td>1.977290e+05</td>\n",
       "      <td>800000.0</td>\n",
       "      <td>30000.0</td>\n",
       "      <td>2.21</td>\n",
       "      <td>1</td>\n",
       "      <td>2</td>\n",
       "      <td>3.022710e+05</td>\n",
       "    </tr>\n",
       "    <tr>\n",
       "      <th>22</th>\n",
       "      <td>9188</td>\n",
       "      <td>2457445</td>\n",
       "      <td>2457539</td>\n",
       "      <td>111</td>\n",
       "      <td>-2</td>\n",
       "      <td>1798</td>\n",
       "      <td>1531787</td>\n",
       "      <td>385</td>\n",
       "      <td>11</td>\n",
       "      <td>300000.0</td>\n",
       "      <td>...</td>\n",
       "      <td>False</td>\n",
       "      <td>3</td>\n",
       "      <td>999</td>\n",
       "      <td>6.036315e+05</td>\n",
       "      <td>3500000.0</td>\n",
       "      <td>20900.0</td>\n",
       "      <td>2.15</td>\n",
       "      <td>1</td>\n",
       "      <td>2</td>\n",
       "      <td>3.036315e+05</td>\n",
       "    </tr>\n",
       "    <tr>\n",
       "      <th>50</th>\n",
       "      <td>5358</td>\n",
       "      <td>2457414</td>\n",
       "      <td>2457461</td>\n",
       "      <td>0</td>\n",
       "      <td>-2</td>\n",
       "      <td>1798</td>\n",
       "      <td>-3</td>\n",
       "      <td>156</td>\n",
       "      <td>12</td>\n",
       "      <td>100000.0</td>\n",
       "      <td>...</td>\n",
       "      <td>False</td>\n",
       "      <td>3</td>\n",
       "      <td>999</td>\n",
       "      <td>5.449843e+05</td>\n",
       "      <td>18139977.0</td>\n",
       "      <td>26500.0</td>\n",
       "      <td>3.23</td>\n",
       "      <td>1</td>\n",
       "      <td>2</td>\n",
       "      <td>4.449843e+05</td>\n",
       "    </tr>\n",
       "  </tbody>\n",
       "</table>\n",
       "<p>5 rows × 30 columns</p>\n",
       "</div>"
      ],
      "text/plain": [
       "       X  id_tanggal_transaksi_awal  tanggal_transaksi_awal tipe_kartu  \\\n",
       "1    788                    2457419                 2457507        111   \n",
       "16  3438                    2457344                 2457385        111   \n",
       "21  5508                    2457555                 2457614        104   \n",
       "22  9188                    2457445                 2457539        111   \n",
       "50  5358                    2457414                 2457461          0   \n",
       "\n",
       "    id_merchant  nama_merchant  tipe_mesin tipe_transaksi  nama_transaksi  \\\n",
       "1            -2           1798          -3            156              12   \n",
       "16           -2           1798          -3            156              12   \n",
       "21           -2           1798     2141266            238               9   \n",
       "22           -2           1798     1531787            385              11   \n",
       "50           -2           1798          -3            156              12   \n",
       "\n",
       "    nilai_transaksi        ...          flag_transaksi_finansial  \\\n",
       "1         2500000.0        ...                             False   \n",
       "16        1300000.0        ...                             False   \n",
       "21         500000.0        ...                             False   \n",
       "22         300000.0        ...                             False   \n",
       "50         100000.0        ...                             False   \n",
       "\n",
       "    status_transaksi  bank_pemilik_kartu  rata_rata_nilai_transaksi  \\\n",
       "1                  3                 999               1.369048e+06   \n",
       "16                 3                 999               1.121962e+06   \n",
       "21                 3                 999               1.977290e+05   \n",
       "22                 3                 999               6.036315e+05   \n",
       "50                 3                 999               5.449843e+05   \n",
       "\n",
       "    maksimum_nilai_transaksi  minimum_nilai_transaksi  \\\n",
       "1                 10000000.0                  30000.0   \n",
       "16                 2700000.0                  19896.0   \n",
       "21                  800000.0                  30000.0   \n",
       "22                 3500000.0                  20900.0   \n",
       "50                18139977.0                  26500.0   \n",
       "\n",
       "    rata_rata_jumlah_transaksi flag_transaksi_fraud  grouped_time  \\\n",
       "1                         2.33                    1             1   \n",
       "16                        2.37                    1             2   \n",
       "21                        2.21                    1             2   \n",
       "22                        2.15                    1             2   \n",
       "50                        3.23                    1             2   \n",
       "\n",
       "    selisih_transaksi  \n",
       "1        1.130952e+06  \n",
       "16       1.780375e+05  \n",
       "21       3.022710e+05  \n",
       "22       3.036315e+05  \n",
       "50       4.449843e+05  \n",
       "\n",
       "[5 rows x 30 columns]"
      ]
     },
     "execution_count": 13,
     "metadata": {},
     "output_type": "execute_result"
    }
   ],
   "source": [
    "fraud_transaction.head()"
   ]
  },
  {
   "cell_type": "code",
   "execution_count": 23,
   "metadata": {},
   "outputs": [
    {
     "data": {
      "text/plain": [
       "100000000.0"
      ]
     },
     "execution_count": 23,
     "metadata": {},
     "output_type": "execute_result"
    }
   ],
   "source": [
    "data.maksimum_nilai_transaksi.max()"
   ]
  },
  {
   "cell_type": "code",
   "execution_count": 16,
   "metadata": {},
   "outputs": [
    {
     "name": "stderr",
     "output_type": "stream",
     "text": [
      "No handles with labels found to put in legend.\n"
     ]
    },
    {
     "data": {
      "image/png": "[encoded data removed]",
      "text/plain": [
       "<matplotlib.figure.Figure at 0x1b9bc970588>"
      ]
     },
     "metadata": {},
     "output_type": "display_data"
    }
   ],
   "source": [
    "import matplotlib.pyplot as plt\n",
    "\n",
    "bins = [x for x in range(0,100000000,10000000)]\n",
    "\n",
    "plt.hist(data.maksimum_nilai_transaksi, bins, histtype='bar', rwidth=0.8)\n",
    "\n",
    "plt.xlabel('x')\n",
    "plt.ylabel('y')\n",
    "plt.title('Interesting Graph')\n",
    "plt.legend()\n",
    "plt.show()"
   ]
  },
  {
   "cell_type": "code",
   "execution_count": 14,
   "metadata": {},
   "outputs": [],
   "source": [
    "fraud_transaction.head()\n",
    "file_name = 'D:\\\\Lomba Hackaton BCA\\\\fraud_detection\\\\data_input_csv\\\\data_input\\\\fraud_analysis.csv'\n",
    "fraud_transaction.to_csv(file_name, index = False, sep=',', encoding='utf-8')"
   ]
  },
  {
   "cell_type": "code",
   "execution_count": 15,
   "metadata": {},
   "outputs": [],
   "source": [
    "non_fraud.head()\n",
    "file_name = 'D:\\\\Lomba Hackaton BCA\\\\fraud_detection\\\\data_input_csv\\\\data_input\\\\non_fraud_analysis.csv'\n",
    "non_fraud.to_csv(file_name, index = False, sep=',', encoding='utf-8')"
   ]
  },
  {
   "cell_type": "code",
   "execution_count": null,
   "metadata": {},
   "outputs": [],
   "source": [
    "fraud_transaction.tipe_transaksi.value_counts().plot(kind='bar')\n",
    "plt.title('Jumlah Transaksi Fraud per Tipe Transaksi')\n",
    "plt.xlabel('Tipe Transaksi')\n",
    "plt.ylabel('Counts')\n",
    "plt.show()"
   ]
  },
  {
   "cell_type": "code",
   "execution_count": null,
   "metadata": {},
   "outputs": [],
   "source": [
    "non_fraud.tipe_transaksi.value_counts().plot(kind='bar')\n",
    "plt.title('Jumlah Transaksi Non-Fraud per Tipe Transaksi')\n",
    "plt.xlabel('Tipe Transaksi')\n",
    "plt.ylabel('Counts')\n",
    "plt.show()"
   ]
  },
  {
   "cell_type": "code",
   "execution_count": null,
   "metadata": {},
   "outputs": [],
   "source": [
    "fraud_transaction.tipe_kartu.value_counts().plot(kind='bar')\n",
    "plt.title('Jumlah Transaksi Fraud per Tipe Kartu')\n",
    "plt.xlabel('Tipe Kartu')\n",
    "plt.ylabel('Counts')\n",
    "plt.show()"
   ]
  },
  {
   "cell_type": "code",
   "execution_count": null,
   "metadata": {},
   "outputs": [],
   "source": [
    "non_fraud.tipe_kartu.value_counts().plot(kind='bar')\n",
    "plt.title('Jumlah Transaksi Non-Fraud per Tipe Kartu')\n",
    "plt.xlabel('Tipe Kartu')\n",
    "plt.ylabel('Counts')\n",
    "plt.show()"
   ]
  },
  {
   "cell_type": "code",
   "execution_count": 9,
   "metadata": {},
   "outputs": [],
   "source": [
    "time = data['waktu_transaksi']\n",
    "nilai_transaksi = data['nilai_transaksi']\n",
    "rata_rata_nilai_transaksi = data['rata_rata_nilai_transaksi']"
   ]
  },
  {
   "cell_type": "code",
   "execution_count": 10,
   "metadata": {},
   "outputs": [],
   "source": [
    "time = time.tolist()\n",
    "nilai_transaksi = nilai_transaksi.tolist()\n",
    "rata_rata_nilai_transaksi = rata_rata_nilai_transaksi.tolist()"
   ]
  },
  {
   "cell_type": "code",
   "execution_count": 11,
   "metadata": {},
   "outputs": [],
   "source": [
    "# change_format_time berfungsi utk mengubah format time menjadi 'detik'\n",
    "def change_format_time(time):\n",
    "    hour = int(time / 10000)\n",
    "    minute = int((time - (hour*10000))/100)\n",
    "    second = time - (hour*10000) - (minute*100)\n",
    "    result = (hour*3600) + (minute*60) + second\n",
    "    return result\n",
    "\n",
    "selisih_transaksi = []\n",
    "\n",
    "# Hitung selisih\n",
    "def hitung_selisih(rata_rata, nilai_transaksi):\n",
    "    result = abs(rata_rata - nilai_transaksi)\n",
    "    return result\n",
    "\n",
    "# result akan menampung format data 'time' dalam detik\n",
    "new_time = []\n",
    "\n",
    "for element in time:\n",
    "    result = change_format_time(element)\n",
    "    new_time.append(result)"
   ]
  },
  {
   "cell_type": "code",
   "execution_count": 12,
   "metadata": {},
   "outputs": [],
   "source": [
    "\"\"\"\n",
    "Pembagian waktu berdasarkan tingkat aktifitas :\n",
    "    Jam istirahat : 22.00 - 07.59 --> Kategori 1\n",
    "    Jam kerja : 08.00 - 18.59 --> Kategori 2\n",
    "    Jam santai : 19.00 - 21.59 --> Kategori 3\n",
    "\"\"\"\n",
    "\n",
    "grouped_time = []\n",
    "\n",
    "def categorize_time(time):\n",
    "    if (time >= 79200) and (time <= 86399):\n",
    "        grouped_time.append(1)\n",
    "    elif (time <= 28799):\n",
    "        grouped_time.append(1)\n",
    "    elif (time >= 28800) and (time <= 68399):\n",
    "        grouped_time.append(2)\n",
    "    elif (time >= 68400) and (time <= 79199):\n",
    "        grouped_time.append(3)\n",
    "    else:\n",
    "        pass\n",
    "\n",
    "for element in new_time:\n",
    "    result = categorize_time(element)\n",
    "    grouped_time.append(result)\n",
    "\n",
    "for i in range(0, len(nilai_transaksi)):\n",
    "    result = abs(nilai_transaksi[i] - rata_rata_nilai_transaksi[i])\n",
    "    selisih_transaksi.append(result)\n",
    "\n",
    "data['grouped_time'] = [x for x in grouped_time if x is not None]\n",
    "data['selisih_transaksi'] = [x for x in selisih_transaksi]\n",
    "\n",
    "grouped_time = []\n",
    "selisih_transaksi = []"
   ]
  },
  {
   "cell_type": "code",
   "execution_count": 13,
   "metadata": {},
   "outputs": [],
   "source": [
    "data['grouped_time'] = data.grouped_time.astype(str)"
   ]
  },
  {
   "cell_type": "code",
   "execution_count": 14,
   "metadata": {},
   "outputs": [
    {
     "data": {
      "text/plain": [
       "X                               int64\n",
       "id_tanggal_transaksi_awal       int64\n",
       "tanggal_transaksi_awal          int64\n",
       "tipe_kartu                      int64\n",
       "id_merchant                     int64\n",
       "nama_merchant                   int64\n",
       "tipe_mesin                      int64\n",
       "tipe_transaksi                  int64\n",
       "nama_transaksi                  int64\n",
       "nilai_transaksi               float64\n",
       "id_negara                       int64\n",
       "nama_negara                     int64\n",
       "nama_kota                       int64\n",
       "lokasi_mesin                    int64\n",
       "pemilik_mesin                   int64\n",
       "waktu_transaksi                 int64\n",
       "kuartal_transaksi               int64\n",
       "kepemilikan_kartu               int64\n",
       "nama_channel                    int64\n",
       "id_channel                      int64\n",
       "flag_transaksi_finansial         bool\n",
       "status_transaksi                int64\n",
       "bank_pemilik_kartu              int64\n",
       "rata_rata_nilai_transaksi     float64\n",
       "maksimum_nilai_transaksi      float64\n",
       "minimum_nilai_transaksi       float64\n",
       "rata_rata_jumlah_transaksi    float64\n",
       "flag_transaksi_fraud            int64\n",
       "time_seconds                    int64\n",
       "grouped_time                   object\n",
       "selisih_transaksi             float64\n",
       "dtype: object"
      ]
     },
     "execution_count": 14,
     "metadata": {},
     "output_type": "execute_result"
    }
   ],
   "source": [
    "data.dtypes"
   ]
  },
  {
   "cell_type": "code",
   "execution_count": 30,
   "metadata": {},
   "outputs": [
    {
     "name": "stdout",
     "output_type": "stream",
     "text": [
      "(13104, 30)\n"
     ]
    }
   ],
   "source": [
    "print(data.shape)"
   ]
  },
  {
   "cell_type": "code",
   "execution_count": 31,
   "metadata": {},
   "outputs": [
    {
     "name": "stdout",
     "output_type": "stream",
     "text": [
      "                  X  id_tanggal_transaksi_awal  tanggal_transaksi_awal  \\\n",
      "count  13104.000000               1.310400e+04            1.310400e+04   \n",
      "mean    7509.515873               2.457490e+06            2.457541e+06   \n",
      "std     4326.881536               1.048163e+02            1.088619e+02   \n",
      "min        1.000000               2.457297e+06            2.457303e+06   \n",
      "25%     3784.750000               2.457404e+06            2.457451e+06   \n",
      "50%     7475.500000               2.457500e+06            2.457543e+06   \n",
      "75%    11268.000000               2.457581e+06            2.457632e+06   \n",
      "max    15000.000000               2.457662e+06            2.457754e+06   \n",
      "\n",
      "         id_merchant  nama_merchant    tipe_mesin  nama_transaksi  \\\n",
      "count   13104.000000   13104.000000  1.310400e+04    13104.000000   \n",
      "mean    39334.219780    1678.309447  1.649208e+06       10.729167   \n",
      "std    124240.232436     361.494170  9.911708e+05        3.890391   \n",
      "min        -2.000000       2.000000 -4.000000e+00        1.000000   \n",
      "25%        -2.000000    1798.000000  1.130703e+06        9.000000   \n",
      "50%        -2.000000    1798.000000  1.836319e+06       10.000000   \n",
      "75%        -2.000000    1798.000000  2.419356e+06       11.000000   \n",
      "max    720990.000000    1859.000000  6.928943e+06       20.000000   \n",
      "\n",
      "       nilai_transaksi     id_negara   nama_negara        ...          \\\n",
      "count     1.310400e+04  13104.000000  13104.000000        ...           \n",
      "mean      1.314923e+06     96.058074      5.019612        ...           \n",
      "std       2.837644e+06      3.569769      0.417685        ...           \n",
      "min       1.000000e+00     -2.000000      1.000000        ...           \n",
      "25%       2.000000e+05     96.000000      5.000000        ...           \n",
      "50%       5.725750e+05     96.000000      5.000000        ...           \n",
      "75%       1.251524e+06     96.000000      5.000000        ...           \n",
      "max       7.500000e+07    216.000000     16.000000        ...           \n",
      "\n",
      "       nama_channel    id_channel  status_transaksi  bank_pemilik_kartu  \\\n",
      "count  13104.000000  13104.000000           13104.0             13104.0   \n",
      "mean       1.403922      8.236798               3.0               999.0   \n",
      "std        1.012817      1.722755               0.0                 0.0   \n",
      "min        1.000000      3.000000               3.0               999.0   \n",
      "25%        1.000000      9.000000               3.0               999.0   \n",
      "50%        1.000000      9.000000               3.0               999.0   \n",
      "75%        1.000000      9.000000               3.0               999.0   \n",
      "max        5.000000      9.000000               3.0               999.0   \n",
      "\n",
      "       rata_rata_nilai_transaksi  maksimum_nilai_transaksi  \\\n",
      "count               1.310400e+04              1.310400e+04   \n",
      "mean                1.364132e+06              1.228760e+07   \n",
      "std                 1.448583e+06              1.645905e+07   \n",
      "min                 5.000000e+04              3.800000e+04   \n",
      "25%                 5.685634e+05              2.500000e+06   \n",
      "50%                 1.024239e+06              6.000000e+06   \n",
      "75%                 1.679778e+06              1.500000e+07   \n",
      "max                 2.466667e+07              1.000000e+08   \n",
      "\n",
      "       minimum_nilai_transaksi  rata_rata_jumlah_transaksi  \\\n",
      "count             1.310400e+04                13104.000000   \n",
      "mean              7.651933e+04                    2.436182   \n",
      "std               6.765391e+05                    1.389367   \n",
      "min               1.000000e+00                    1.000000   \n",
      "25%               2.500000e+04                    1.680000   \n",
      "50%               3.696400e+04                    2.100000   \n",
      "75%               6.320000e+04                    2.790000   \n",
      "max               7.500000e+07                   19.780000   \n",
      "\n",
      "       flag_transaksi_fraud  selisih_transaksi  \n",
      "count          13104.000000       1.310400e+04  \n",
      "mean               0.068223       1.090994e+06  \n",
      "std                0.252139       2.348899e+06  \n",
      "min                0.000000       0.000000e+00  \n",
      "25%                0.000000       2.277288e+05  \n",
      "50%                0.000000       5.464705e+05  \n",
      "75%                0.000000       1.093213e+06  \n",
      "max                1.000000       5.941773e+07  \n",
      "\n",
      "[8 rows x 26 columns]\n"
     ]
    }
   ],
   "source": [
    "print(data.describe())"
   ]
  },
  {
   "cell_type": "code",
   "execution_count": null,
   "metadata": {},
   "outputs": [],
   "source": [
    "# Plot histogram of each paramater\n",
    "data.hist(figsize = (20, 20))\n",
    "plt.show()"
   ]
  },
  {
   "cell_type": "code",
   "execution_count": null,
   "metadata": {},
   "outputs": [],
   "source": [
    "# Determine number of fraud cases in dataset\n",
    "fraud = data[data['flag_transaksi_fraud'] == 1]\n",
    "valid = data[data['flag_transaksi_fraud'] == 0]\n",
    "\n",
    "outlier_fraction = len(fraud) / float(len(valid))\n",
    "print(outlier_fraction)\n",
    "\n",
    "print('Fraud Cases: {}'.format(len(fraud)))\n",
    "print('Valid Cases: {}'.format(len(valid)))"
   ]
  },
  {
   "cell_type": "code",
   "execution_count": null,
   "metadata": {},
   "outputs": [],
   "source": [
    "# Correlation matrix\n",
    "corr_mat = data.corr()\n",
    "fig = plt.figure(figsize = (12, 9))\n",
    "\n",
    "sns.heatmap(corr_mat, vmax = .8, square = True)\n",
    "plt.show()"
   ]
  },
  {
   "cell_type": "code",
   "execution_count": 16,
   "metadata": {},
   "outputs": [
    {
     "data": {
      "text/plain": [
       "Index(['X', 'id_tanggal_transaksi_awal', 'tanggal_transaksi_awal',\n",
       "       'tipe_kartu', 'id_merchant', 'nama_merchant', 'tipe_mesin',\n",
       "       'tipe_transaksi', 'nama_transaksi', 'nilai_transaksi', 'id_negara',\n",
       "       'nama_negara', 'nama_kota', 'lokasi_mesin', 'pemilik_mesin',\n",
       "       'waktu_transaksi', 'kuartal_transaksi', 'kepemilikan_kartu',\n",
       "       'nama_channel', 'id_channel', 'flag_transaksi_finansial',\n",
       "       'status_transaksi', 'bank_pemilik_kartu', 'rata_rata_nilai_transaksi',\n",
       "       'maksimum_nilai_transaksi', 'minimum_nilai_transaksi',\n",
       "       'rata_rata_jumlah_transaksi', 'flag_transaksi_fraud', 'time_seconds',\n",
       "       'grouped_time', 'selisih_transaksi'],\n",
       "      dtype='object')"
      ]
     },
     "execution_count": 16,
     "metadata": {},
     "output_type": "execute_result"
    }
   ],
   "source": [
    "data.columns"
   ]
  },
  {
   "cell_type": "code",
   "execution_count": 17,
   "metadata": {},
   "outputs": [],
   "source": [
    "# Get the column's that we want from the Dataframe\n",
    "columns = ['selisih_transaksi','maksimum_nilai_transaksi', 'time_seconds','flag_transaksi_fraud']\n",
    "target = 'flag_transaksi_fraud'"
   ]
  },
  {
   "cell_type": "code",
   "execution_count": 18,
   "metadata": {},
   "outputs": [],
   "source": [
    "selected_data = data.loc[:,columns]\n",
    "selected_data.head()\n",
    "file_name = 'data_02.csv'\n",
    "selected_data.to_csv(file_name, index = False, sep=',', encoding='utf-8')"
   ]
  },
  {
   "cell_type": "code",
   "execution_count": 14,
   "metadata": {},
   "outputs": [],
   "source": [
    "# over sampling\n",
    "selected_data = selected_data.append([selected_data.loc[selected_data['flag_transaksi_fraud'] == 1]]*12)\n",
    "#data = data.append([data]*5)\n",
    "selected_data = selected_data.sample(frac = 1)"
   ]
  },
  {
   "cell_type": "code",
   "execution_count": 15,
   "metadata": {},
   "outputs": [
    {
     "data": {
      "text/plain": [
       "flag_transaksi_fraud\n",
       "0    12215\n",
       "1    11830\n",
       "dtype: int64"
      ]
     },
     "execution_count": 15,
     "metadata": {},
     "output_type": "execute_result"
    }
   ],
   "source": [
    "# check data\n",
    "# Utk memastikan bahwa jumlah datanya balance\n",
    "selected_data.groupby(selected_data.columns[6]).size()"
   ]
  },
  {
   "cell_type": "code",
   "execution_count": 16,
   "metadata": {},
   "outputs": [],
   "source": [
    "columns = ['grouped_time','tipe_kartu','tipe_transaksi','selisih_transaksi','kepemilikan_kartu', 'maksimum_nilai_transaksi']\n",
    "X = selected_data.loc[:,columns].values\n",
    "Y = selected_data.loc[:, 'flag_transaksi_fraud'].values"
   ]
  },
  {
   "cell_type": "code",
   "execution_count": 17,
   "metadata": {},
   "outputs": [
    {
     "data": {
      "text/plain": [
       "array([['1', '104', '26', 7081.443300000043, '2', 10500000.0],\n",
       "       ['2', '93', '26', 2893191.192, '2', 53377977.0],\n",
       "       ['1', '111', '58', 478166.73490000004, '2', 6500000.0],\n",
       "       ...,\n",
       "       ['2', '104', '26', 986372.1, '2', 1000000.0],\n",
       "       ['2', '93', '440', 59417726.09, '1', 100000000.0],\n",
       "       ['2', '1', '26', 396542.108, '2', 2500000.0]], dtype=object)"
      ]
     },
     "metadata": {},
     "output_type": "display_data"
    },
    {
     "name": "stdout",
     "output_type": "stream",
     "text": [
      "<class 'numpy.ndarray'>\n",
      "(24045, 6)\n"
     ]
    }
   ],
   "source": [
    "display(X)\n",
    "print(type(X))\n",
    "print(X.shape)"
   ]
  },
  {
   "cell_type": "code",
   "execution_count": 18,
   "metadata": {},
   "outputs": [
    {
     "data": {
      "text/plain": [
       "array([1, 1, 0, ..., 1, 1, 0], dtype=int64)"
      ]
     },
     "metadata": {},
     "output_type": "display_data"
    },
    {
     "name": "stdout",
     "output_type": "stream",
     "text": [
      "<class 'numpy.ndarray'>\n",
      "(24045,)\n"
     ]
    }
   ],
   "source": [
    "display(Y)\n",
    "print(type(Y))\n",
    "print(Y.shape)"
   ]
  },
  {
   "cell_type": "code",
   "execution_count": 19,
   "metadata": {},
   "outputs": [],
   "source": [
    "# Encode categorical data\n",
    "from sklearn.preprocessing import LabelEncoder, OneHotEncoder\n",
    "labelencoder_X = LabelEncoder()\n",
    "X[:, 0] = labelencoder_X.fit_transform(X[:, 0])\n",
    "X[:, 1] = labelencoder_X.fit_transform(X[:, 1])\n",
    "X[:, 2] = labelencoder_X.fit_transform(X[:, 2])\n",
    "X[:, 4] = labelencoder_X.fit_transform(X[:, 4])\n",
    "# Mengubah kategorikal data menjadi dummy variable\n",
    "onehotencoder = OneHotEncoder(categorical_features = [0,1,2,4]) \n",
    "X = onehotencoder.fit_transform(X).toarray()\n",
    "\n",
    "from sklearn.model_selection import train_test_split \n",
    "from sklearn.preprocessing import StandardScaler\n",
    "# splitting datasets to Training and Testing\n",
    "X_train, X_test, y_train, y_test = train_test_split(X, Y, test_size = 0.2, random_state = 0)\n",
    "\n",
    "# Feature scaling\n",
    "sc = StandardScaler()\n",
    "X_train = sc.fit_transform(X_train)\n",
    "X_test = sc.transform(X_test)"
   ]
  },
  {
   "cell_type": "markdown",
   "metadata": {},
   "source": [
    "### Testing with Logistic Regression "
   ]
  },
  {
   "cell_type": "code",
   "execution_count": null,
   "metadata": {},
   "outputs": [],
   "source": [
    "# Fitting Logistic Regression to the Training set\n",
    "from sklearn.linear_model import LogisticRegression\n",
    "classifier = LogisticRegression(random_state = 0)\n",
    "classifier.fit(X_train, y_train)\n",
    "\n",
    "# Predicting the Test set results\n",
    "y_pred = classifier.predict(X_test)"
   ]
  },
  {
   "cell_type": "code",
   "execution_count": null,
   "metadata": {},
   "outputs": [],
   "source": [
    "############################ Evaluation ##################################\n",
    "from sklearn.metrics import confusion_matrix, accuracy_score, precision_recall_fscore_support\n",
    "acc = accuracy_score(y_test, y_pred)\n",
    "cm = confusion_matrix(y_test, y_pred)\n",
    "evaluate = precision_recall_fscore_support(y_test, y_pred)"
   ]
  },
  {
   "cell_type": "code",
   "execution_count": null,
   "metadata": {},
   "outputs": [],
   "source": [
    "acc"
   ]
  },
  {
   "cell_type": "code",
   "execution_count": null,
   "metadata": {},
   "outputs": [],
   "source": [
    "cm"
   ]
  },
  {
   "cell_type": "code",
   "execution_count": null,
   "metadata": {},
   "outputs": [],
   "source": [
    "evaluate"
   ]
  },
  {
   "cell_type": "markdown",
   "metadata": {},
   "source": [
    "### Testing with K-NN"
   ]
  },
  {
   "cell_type": "code",
   "execution_count": 32,
   "metadata": {},
   "outputs": [],
   "source": [
    "# Fitting classifier to the Training set\n",
    "from sklearn.neighbors import KNeighborsClassifier\n",
    "classifier = KNeighborsClassifier(n_neighbors = 5, metric = 'minkowski', p = 2)\n",
    "classifier.fit(X_train, y_train)\n",
    "\n",
    "# Predicting the Test set results\n",
    "y_pred = classifier.predict(X_test)"
   ]
  },
  {
   "cell_type": "code",
   "execution_count": 35,
   "metadata": {},
   "outputs": [],
   "source": [
    "############################ Evaluation ##################################\n",
    "from sklearn.metrics import confusion_matrix, accuracy_score, precision_recall_fscore_support\n",
    "acc = accuracy_score(y_test, y_pred)\n",
    "cm = confusion_matrix(y_test, y_pred)\n",
    "evaluate = precision_recall_fscore_support(y_test, y_pred)"
   ]
  },
  {
   "cell_type": "code",
   "execution_count": 36,
   "metadata": {},
   "outputs": [
    {
     "data": {
      "text/plain": [
       "0.9191100020794344"
      ]
     },
     "execution_count": 36,
     "metadata": {},
     "output_type": "execute_result"
    }
   ],
   "source": [
    "acc"
   ]
  },
  {
   "cell_type": "code",
   "execution_count": 37,
   "metadata": {},
   "outputs": [
    {
     "data": {
      "text/plain": [
       "array([[2035,  389],\n",
       "       [   0, 2385]], dtype=int64)"
      ]
     },
     "execution_count": 37,
     "metadata": {},
     "output_type": "execute_result"
    }
   ],
   "source": [
    "cm"
   ]
  },
  {
   "cell_type": "code",
   "execution_count": 38,
   "metadata": {},
   "outputs": [
    {
     "data": {
      "text/plain": [
       "(array([1.        , 0.85976929]),\n",
       " array([0.83952145, 1.        ]),\n",
       " array([0.91276071, 0.92459779]),\n",
       " array([2424, 2385], dtype=int64))"
      ]
     },
     "execution_count": 38,
     "metadata": {},
     "output_type": "execute_result"
    }
   ],
   "source": [
    "evaluate"
   ]
  },
  {
   "cell_type": "code",
   "execution_count": 26,
   "metadata": {},
   "outputs": [
    {
     "data": {
      "text/plain": [
       "(19236, 41)"
      ]
     },
     "execution_count": 26,
     "metadata": {},
     "output_type": "execute_result"
    }
   ],
   "source": [
    "X_train.shape"
   ]
  },
  {
   "cell_type": "code",
   "execution_count": 27,
   "metadata": {},
   "outputs": [
    {
     "name": "stderr",
     "output_type": "stream",
     "text": [
      "C:\\Users\\sofyan.fadli\\Anaconda3\\lib\\site-packages\\h5py\\__init__.py:36: FutureWarning: Conversion of the second argument of issubdtype from `float` to `np.floating` is deprecated. In future, it will be treated as `np.float64 == np.dtype(float).type`.\n",
      "  from ._conv import register_converters as _register_converters\n",
      "Using TensorFlow backend.\n",
      "C:\\Users\\sofyan.fadli\\Anaconda3\\lib\\site-packages\\requests\\__init__.py:80: RequestsDependencyWarning: urllib3 (1.23) or chardet (3.0.4) doesn't match a supported version!\n",
      "  RequestsDependencyWarning)\n",
      "D:\\Lomba Hackaton BCA\\deeplab.py:28: UserWarning: Update your `Dense` call to the Keras 2 API: `Dense(activation=\"relu\", input_dim=41, units=48, kernel_initializer=\"uniform\")`\n",
      "  classifier.add(Dense(output_dim = self._hidden_node, init = 'uniform', activation= 'relu', input_dim = self._input_node))\n",
      "D:\\Lomba Hackaton BCA\\deeplab.py:29: UserWarning: Update your `Dropout` call to the Keras 2 API: `Dropout(rate=0)`\n",
      "  classifier.add(Dropout(p = self._dropout))\n",
      "D:\\Lomba Hackaton BCA\\deeplab.py:32: UserWarning: Update your `Dense` call to the Keras 2 API: `Dense(activation=\"relu\", units=48, kernel_initializer=\"uniform\")`\n",
      "  classifier.add(Dense(output_dim = self._hidden_node, init = 'uniform', activation= 'relu'))\n",
      "D:\\Lomba Hackaton BCA\\deeplab.py:33: UserWarning: Update your `Dropout` call to the Keras 2 API: `Dropout(rate=0)`\n",
      "  classifier.add(Dropout(p = self._dropout))\n",
      "D:\\Lomba Hackaton BCA\\deeplab.py:34: UserWarning: Update your `Dense` call to the Keras 2 API: `Dense(activation=\"sigmoid\", units=1, kernel_initializer=\"uniform\")`\n",
      "  classifier.add(Dense(output_dim = self._output_node, init = 'uniform', activation= 'sigmoid'))\n",
      "C:\\Users\\sofyan.fadli\\Anaconda3\\lib\\site-packages\\keras\\models.py:981: UserWarning: The `nb_epoch` argument in `fit` has been renamed `epochs`.\n",
      "  warnings.warn('The `nb_epoch` argument in `fit` '\n"
     ]
    },
    {
     "name": "stdout",
     "output_type": "stream",
     "text": [
      "Epoch 1/100\n",
      "19236/19236 [==============================] - 2s 98us/step - loss: 0.5777 - acc: 0.6948\n",
      "Epoch 2/100\n",
      "19236/19236 [==============================] - 1s 33us/step - loss: 0.5438 - acc: 0.7295\n",
      "Epoch 3/100\n",
      "19236/19236 [==============================] - 1s 35us/step - loss: 0.5328 - acc: 0.7338\n",
      "Epoch 4/100\n",
      "19236/19236 [==============================] - 1s 32us/step - loss: 0.5232 - acc: 0.7384\n",
      "Epoch 5/100\n",
      "19236/19236 [==============================] - 1s 32us/step - loss: 0.5167 - acc: 0.7439\n",
      "Epoch 6/100\n",
      "19236/19236 [==============================] - 1s 32us/step - loss: 0.5071 - acc: 0.7476\n",
      "Epoch 7/100\n",
      "19236/19236 [==============================] - 1s 33us/step - loss: 0.5006 - acc: 0.7506\n",
      "Epoch 8/100\n",
      "19236/19236 [==============================] - 1s 32us/step - loss: 0.4934 - acc: 0.7543\n",
      "Epoch 9/100\n",
      "19236/19236 [==============================] - 1s 32us/step - loss: 0.4874 - acc: 0.7566\n",
      "Epoch 10/100\n",
      "19236/19236 [==============================] - 1s 33us/step - loss: 0.4794 - acc: 0.7636\n",
      "Epoch 11/100\n",
      "19236/19236 [==============================] - 1s 32us/step - loss: 0.4748 - acc: 0.7634\n",
      "Epoch 12/100\n",
      "19236/19236 [==============================] - 1s 33us/step - loss: 0.4683 - acc: 0.7647\n",
      "Epoch 13/100\n",
      "19236/19236 [==============================] - 1s 37us/step - loss: 0.4631 - acc: 0.7665\n",
      "Epoch 14/100\n",
      "19236/19236 [==============================] - 1s 40us/step - loss: 0.4595 - acc: 0.7685\n",
      "Epoch 15/100\n",
      "19236/19236 [==============================] - 1s 38us/step - loss: 0.4543 - acc: 0.7721\n",
      "Epoch 16/100\n",
      "19236/19236 [==============================] - 1s 38us/step - loss: 0.4514 - acc: 0.7729\n",
      "Epoch 17/100\n",
      "19236/19236 [==============================] - 1s 35us/step - loss: 0.4479 - acc: 0.7724\n",
      "Epoch 18/100\n",
      "19236/19236 [==============================] - 1s 37us/step - loss: 0.4424 - acc: 0.7752\n",
      "Epoch 19/100\n",
      "19236/19236 [==============================] - 1s 39us/step - loss: 0.4404 - acc: 0.7792\n",
      "Epoch 20/100\n",
      "19236/19236 [==============================] - 1s 37us/step - loss: 0.4377 - acc: 0.7798\n",
      "Epoch 21/100\n",
      "19236/19236 [==============================] - 1s 36us/step - loss: 0.4349 - acc: 0.7793\n",
      "Epoch 22/100\n",
      "19236/19236 [==============================] - 1s 35us/step - loss: 0.4325 - acc: 0.7804\n",
      "Epoch 23/100\n",
      "19236/19236 [==============================] - 1s 35us/step - loss: 0.4311 - acc: 0.7837\n",
      "Epoch 24/100\n",
      "19236/19236 [==============================] - 1s 33us/step - loss: 0.4270 - acc: 0.7838\n",
      "Epoch 25/100\n",
      "19236/19236 [==============================] - 1s 33us/step - loss: 0.4254 - acc: 0.7864\n",
      "Epoch 26/100\n",
      "19236/19236 [==============================] - 1s 32us/step - loss: 0.4233 - acc: 0.7845\n",
      "Epoch 27/100\n",
      "19236/19236 [==============================] - 1s 33us/step - loss: 0.4211 - acc: 0.7903\n",
      "Epoch 28/100\n",
      "19236/19236 [==============================] - 1s 33us/step - loss: 0.4203 - acc: 0.7904\n",
      "Epoch 29/100\n",
      "19236/19236 [==============================] - 1s 33us/step - loss: 0.4204 - acc: 0.7927\n",
      "Epoch 30/100\n",
      "19236/19236 [==============================] - 1s 34us/step - loss: 0.4146 - acc: 0.7910\n",
      "Epoch 31/100\n",
      "19236/19236 [==============================] - 1s 33us/step - loss: 0.4105 - acc: 0.7956\n",
      "Epoch 32/100\n",
      "19236/19236 [==============================] - 1s 36us/step - loss: 0.4079 - acc: 0.7983\n",
      "Epoch 33/100\n",
      "19236/19236 [==============================] - 1s 35us/step - loss: 0.4045 - acc: 0.7998\n",
      "Epoch 34/100\n",
      "19236/19236 [==============================] - 1s 35us/step - loss: 0.4058 - acc: 0.7993\n",
      "Epoch 35/100\n",
      "19236/19236 [==============================] - 1s 36us/step - loss: 0.4013 - acc: 0.8026\n",
      "Epoch 36/100\n",
      "19236/19236 [==============================] - 1s 42us/step - loss: 0.3974 - acc: 0.8037\n",
      "Epoch 37/100\n",
      "19236/19236 [==============================] - 1s 34us/step - loss: 0.3981 - acc: 0.8044\n",
      "Epoch 38/100\n",
      "19236/19236 [==============================] - 1s 35us/step - loss: 0.3970 - acc: 0.8054\n",
      "Epoch 39/100\n",
      "19236/19236 [==============================] - 1s 34us/step - loss: 0.3930 - acc: 0.8099\n",
      "Epoch 40/100\n",
      "19236/19236 [==============================] - 1s 33us/step - loss: 0.3916 - acc: 0.8098\n",
      "Epoch 41/100\n",
      "19236/19236 [==============================] - 1s 34us/step - loss: 0.3884 - acc: 0.8098\n",
      "Epoch 42/100\n",
      "19236/19236 [==============================] - 1s 33us/step - loss: 0.3875 - acc: 0.8127\n",
      "Epoch 43/100\n",
      "19236/19236 [==============================] - 1s 33us/step - loss: 0.3956 - acc: 0.8146\n",
      "Epoch 44/100\n",
      "19236/19236 [==============================] - 1s 34us/step - loss: 0.3902 - acc: 0.8166\n",
      "Epoch 45/100\n",
      "19236/19236 [==============================] - 1s 35us/step - loss: 0.3884 - acc: 0.8168\n",
      "Epoch 46/100\n",
      "19236/19236 [==============================] - 1s 35us/step - loss: 0.3873 - acc: 0.8186\n",
      "Epoch 47/100\n",
      "19236/19236 [==============================] - 1s 39us/step - loss: 0.3860 - acc: 0.8171\n",
      "Epoch 48/100\n",
      "19236/19236 [==============================] - 1s 38us/step - loss: 0.3862 - acc: 0.8169\n",
      "Epoch 49/100\n",
      "19236/19236 [==============================] - 1s 38us/step - loss: 0.3840 - acc: 0.8213\n",
      "Epoch 50/100\n",
      "19236/19236 [==============================] - 1s 38us/step - loss: 0.3808 - acc: 0.8234: 0s - loss: 0.3879 - a\n",
      "Epoch 51/100\n",
      "19236/19236 [==============================] - 1s 36us/step - loss: 0.3814 - acc: 0.8196\n",
      "Epoch 52/100\n",
      "19236/19236 [==============================] - 1s 38us/step - loss: 0.3762 - acc: 0.8208\n",
      "Epoch 53/100\n",
      "19236/19236 [==============================] - 1s 36us/step - loss: 0.3746 - acc: 0.8244\n",
      "Epoch 54/100\n",
      "19236/19236 [==============================] - 1s 36us/step - loss: 0.3738 - acc: 0.8223\n",
      "Epoch 55/100\n",
      "19236/19236 [==============================] - 1s 40us/step - loss: 0.3697 - acc: 0.8261\n",
      "Epoch 56/100\n",
      "19236/19236 [==============================] - 1s 38us/step - loss: 0.3739 - acc: 0.8266\n",
      "Epoch 57/100\n",
      "19236/19236 [==============================] - 1s 40us/step - loss: 0.3672 - acc: 0.8279\n",
      "Epoch 58/100\n",
      "19236/19236 [==============================] - 1s 41us/step - loss: 0.3654 - acc: 0.8295\n",
      "Epoch 59/100\n",
      "19236/19236 [==============================] - 1s 42us/step - loss: 0.3674 - acc: 0.8276\n",
      "Epoch 60/100\n",
      "19236/19236 [==============================] - 1s 43us/step - loss: 0.3641 - acc: 0.8289\n",
      "Epoch 61/100\n",
      "19236/19236 [==============================] - 1s 41us/step - loss: 0.3597 - acc: 0.8320\n",
      "Epoch 62/100\n",
      "19236/19236 [==============================] - 1s 38us/step - loss: 0.3608 - acc: 0.8334\n",
      "Epoch 63/100\n",
      "19236/19236 [==============================] - 1s 38us/step - loss: 0.3563 - acc: 0.8352\n",
      "Epoch 64/100\n",
      "19236/19236 [==============================] - 1s 38us/step - loss: 0.3557 - acc: 0.8357\n",
      "Epoch 65/100\n",
      "19236/19236 [==============================] - 1s 39us/step - loss: 0.3538 - acc: 0.8381\n",
      "Epoch 66/100\n",
      "19236/19236 [==============================] - 1s 37us/step - loss: 0.3518 - acc: 0.8389\n",
      "Epoch 67/100\n",
      "19236/19236 [==============================] - 1s 38us/step - loss: 0.3519 - acc: 0.8379\n",
      "Epoch 68/100\n",
      "19236/19236 [==============================] - 1s 37us/step - loss: 0.3510 - acc: 0.8361\n",
      "Epoch 69/100\n",
      "19236/19236 [==============================] - 1s 37us/step - loss: 0.3458 - acc: 0.8385\n",
      "Epoch 70/100\n",
      "19236/19236 [==============================] - 1s 38us/step - loss: 0.3390 - acc: 0.8406: 0s - loss: 0.3312 - \n",
      "Epoch 71/100\n",
      "19236/19236 [==============================] - 1s 38us/step - loss: 0.3331 - acc: 0.8452\n",
      "Epoch 72/100\n",
      "19236/19236 [==============================] - 1s 37us/step - loss: 0.3328 - acc: 0.8431\n",
      "Epoch 73/100\n",
      "19236/19236 [==============================] - 1s 38us/step - loss: 0.3327 - acc: 0.8450\n",
      "Epoch 74/100\n",
      "19236/19236 [==============================] - 1s 37us/step - loss: 0.3306 - acc: 0.8456\n",
      "Epoch 75/100\n",
      "19236/19236 [==============================] - 1s 39us/step - loss: 0.3277 - acc: 0.8472\n",
      "Epoch 76/100\n",
      "19236/19236 [==============================] - 1s 37us/step - loss: 0.3270 - acc: 0.8487\n",
      "Epoch 77/100\n",
      "19236/19236 [==============================] - 1s 37us/step - loss: 0.3277 - acc: 0.8454\n",
      "Epoch 78/100\n",
      "19236/19236 [==============================] - 1s 39us/step - loss: 0.3246 - acc: 0.8478\n",
      "Epoch 79/100\n",
      "19236/19236 [==============================] - 1s 38us/step - loss: 0.3284 - acc: 0.8456\n",
      "Epoch 80/100\n",
      "19236/19236 [==============================] - 1s 38us/step - loss: 0.3244 - acc: 0.8488\n"
     ]
    },
    {
     "name": "stdout",
     "output_type": "stream",
     "text": [
      "Epoch 81/100\n",
      "19236/19236 [==============================] - 1s 35us/step - loss: 0.3208 - acc: 0.8498\n",
      "Epoch 82/100\n",
      "19236/19236 [==============================] - 1s 34us/step - loss: 0.3196 - acc: 0.8532\n",
      "Epoch 83/100\n",
      "19236/19236 [==============================] - 1s 34us/step - loss: 0.3230 - acc: 0.8497\n",
      "Epoch 84/100\n",
      "19236/19236 [==============================] - 1s 34us/step - loss: 0.3195 - acc: 0.8501\n",
      "Epoch 85/100\n",
      "19236/19236 [==============================] - 1s 37us/step - loss: 0.3197 - acc: 0.8518\n",
      "Epoch 86/100\n",
      "19236/19236 [==============================] - 1s 33us/step - loss: 0.3209 - acc: 0.8504\n",
      "Epoch 87/100\n",
      "19236/19236 [==============================] - 1s 34us/step - loss: 0.3128 - acc: 0.8556\n",
      "Epoch 88/100\n",
      "19236/19236 [==============================] - 1s 34us/step - loss: 0.3140 - acc: 0.8538\n",
      "Epoch 89/100\n",
      "19236/19236 [==============================] - 1s 32us/step - loss: 0.3108 - acc: 0.8581\n",
      "Epoch 90/100\n",
      "19236/19236 [==============================] - 1s 32us/step - loss: 0.3130 - acc: 0.8544\n",
      "Epoch 91/100\n",
      "19236/19236 [==============================] - 1s 33us/step - loss: 0.3072 - acc: 0.8592\n",
      "Epoch 92/100\n",
      "19236/19236 [==============================] - 1s 33us/step - loss: 0.3132 - acc: 0.8545\n",
      "Epoch 93/100\n",
      "19236/19236 [==============================] - 1s 32us/step - loss: 0.3145 - acc: 0.8542\n",
      "Epoch 94/100\n",
      "19236/19236 [==============================] - 1s 33us/step - loss: 0.3112 - acc: 0.8562\n",
      "Epoch 95/100\n",
      "19236/19236 [==============================] - 1s 33us/step - loss: 0.3052 - acc: 0.8586\n",
      "Epoch 96/100\n",
      "19236/19236 [==============================] - 1s 33us/step - loss: 0.3037 - acc: 0.8604\n",
      "Epoch 97/100\n",
      "19236/19236 [==============================] - 1s 33us/step - loss: 0.3062 - acc: 0.8581\n",
      "Epoch 98/100\n",
      "19236/19236 [==============================] - 1s 33us/step - loss: 0.3022 - acc: 0.8591\n",
      "Epoch 99/100\n",
      "19236/19236 [==============================] - 1s 33us/step - loss: 0.3043 - acc: 0.8591\n",
      "Epoch 100/100\n",
      "19236/19236 [==============================] - 1s 34us/step - loss: 0.3025 - acc: 0.8598\n"
     ]
    }
   ],
   "source": [
    "################################ ANN #####################################\n",
    "from deeplab import NN\n",
    "\n",
    "classifier = NN(3, 48, 41, 0, 1).ann()\n",
    "classifier.fit(X_train, y_train, batch_size = 50, nb_epoch = 100)\n",
    "y_pred = classifier.predict(X_test)\n",
    "y_pred = (y_pred > 0.5)"
   ]
  },
  {
   "cell_type": "code",
   "execution_count": 28,
   "metadata": {},
   "outputs": [],
   "source": [
    "############################ Evaluation ##################################\n",
    "from sklearn.metrics import confusion_matrix, accuracy_score, precision_recall_fscore_support\n",
    "acc = accuracy_score(y_test, y_pred)\n",
    "cm = confusion_matrix(y_test, y_pred)\n",
    "evaluate = precision_recall_fscore_support(y_test, y_pred)"
   ]
  },
  {
   "cell_type": "code",
   "execution_count": 29,
   "metadata": {},
   "outputs": [
    {
     "data": {
      "text/plain": [
       "0.8440424204616345"
      ]
     },
     "execution_count": 29,
     "metadata": {},
     "output_type": "execute_result"
    }
   ],
   "source": [
    "acc"
   ]
  },
  {
   "cell_type": "code",
   "execution_count": 30,
   "metadata": {},
   "outputs": [
    {
     "data": {
      "text/plain": [
       "array([[1882,  542],\n",
       "       [ 208, 2177]], dtype=int64)"
      ]
     },
     "execution_count": 30,
     "metadata": {},
     "output_type": "execute_result"
    }
   ],
   "source": [
    "cm"
   ]
  },
  {
   "cell_type": "code",
   "execution_count": 31,
   "metadata": {},
   "outputs": [
    {
     "data": {
      "text/plain": [
       "(array([0.90047847, 0.80066201]),\n",
       " array([0.77640264, 0.91278826]),\n",
       " array([0.83385024, 0.85305643]),\n",
       " array([2424, 2385], dtype=int64))"
      ]
     },
     "execution_count": 31,
     "metadata": {},
     "output_type": "execute_result"
    }
   ],
   "source": [
    "evaluate"
   ]
  },
  {
   "cell_type": "code",
   "execution_count": null,
   "metadata": {},
   "outputs": [],
   "source": [
    "# Fitting SVM to the Training set\n",
    "from sklearn.svm import SVC\n",
    "classifier = SVC(random_state = 0)\n",
    "classifier.fit(X_train, y_train)\n",
    "\n",
    "# Predicting the Test set results\n",
    "y_pred = classifier.predict(X_test)"
   ]
  },
  {
   "cell_type": "code",
   "execution_count": null,
   "metadata": {},
   "outputs": [],
   "source": [
    "############################ Evaluation ##################################\n",
    "from sklearn.metrics import confusion_matrix, accuracy_score, precision_recall_fscore_support\n",
    "acc = accuracy_score(y_test, y_pred)\n",
    "cm = confusion_matrix(y_test, y_pred)\n",
    "evaluate = precision_recall_fscore_support(y_test, y_pred)"
   ]
  },
  {
   "cell_type": "code",
   "execution_count": null,
   "metadata": {},
   "outputs": [],
   "source": [
    "acc"
   ]
  },
  {
   "cell_type": "code",
   "execution_count": null,
   "metadata": {},
   "outputs": [],
   "source": [
    "cm"
   ]
  },
  {
   "cell_type": "code",
   "execution_count": null,
   "metadata": {},
   "outputs": [],
   "source": [
    "evaluate"
   ]
  },
  {
   "cell_type": "code",
   "execution_count": null,
   "metadata": {},
   "outputs": [],
   "source": []
  }
 ],
 "metadata": {
  "kernelspec": {
   "display_name": "Python 3",
   "language": "python",
   "name": "python3"
  },
  "language_info": {
   "codemirror_mode": {
    "name": "ipython",
    "version": 3
   },
   "file_extension": ".py",
   "mimetype": "text/x-python",
   "name": "python",
   "nbconvert_exporter": "python",
   "pygments_lexer": "ipython3",
   "version": "3.6.4"
  },
  "varInspector": {
   "cols": {
    "lenName": 16,
    "lenType": 16,
    "lenVar": 40
   },
   "kernels_config": {
    "python": {
     "delete_cmd_postfix": "",
     "delete_cmd_prefix": "del ",
     "library": "var_list.py",
     "varRefreshCmd": "print(var_dic_list())"
    },
    "r": {
     "delete_cmd_postfix": ") ",
     "delete_cmd_prefix": "rm(",
     "library": "var_list.r",
     "varRefreshCmd": "cat(var_dic_list()) "
    }
   },
   "types_to_exclude": [
    "module",
    "function",
    "builtin_function_or_method",
    "instance",
    "_Feature"
   ],
   "window_display": false
  }
 },
 "nbformat": 4,
 "nbformat_minor": 2
}
